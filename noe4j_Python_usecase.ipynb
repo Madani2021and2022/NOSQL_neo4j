{
 "cells": [
  {
   "cell_type": "markdown",
   "metadata": {},
   "source": [
    "# Etude de cas : Utilisation de neo4j avec Python"
   ]
  },
  {
   "cell_type": "markdown",
   "metadata": {},
   "source": [
    "Dans cette étude de cas, on considère le graphe ayant la structure suivante :"
   ]
  },
  {
   "cell_type": "markdown",
   "metadata": {},
   "source": [
    "\n",
    "<img src='struct.png' width='40%'>"
   ]
  },
  {
   "cell_type": "markdown",
   "metadata": {},
   "source": [
    "Ce graphe présente plusieurs enseignant assurant des cours. Ces derniers nécessitent d'autres cours comme pré-requis. <br>\n",
    "Dans la structure précédente :\n",
    "<ol>\n",
    "    <li>Un professeur est représenté par un noeud ayant comme label <b>Prof</b> et possédant deux pripriétés <b>name</b> et <b>city</b> </li>\n",
    "        <li>Un cours est représenté par un noeud ayant comme label <b>Cours</b> et possédant une seule pripriété <b> label </b> </li>\n",
    "            <li>La relation entre un professeur et un cours possède le type <b>enseigne</b></li>\n",
    "            La relation entre un cours et un autre cours possède le type <b>necessite</b>\n",
    "</ol>"
   ]
  },
  {
   "cell_type": "markdown",
   "metadata": {},
   "source": [
    "<img src='Exemple1.png' width='60%'>"
   ]
  },
  {
   "cell_type": "markdown",
   "metadata": {},
   "source": [
    "### Import modules nécessaires"
   ]
  },
  {
   "cell_type": "code",
   "execution_count": 165,
   "metadata": {},
   "outputs": [],
   "source": [
    "# installer neo4j\n",
    "#pip install neo4j"
   ]
  },
  {
   "cell_type": "code",
   "execution_count": 166,
   "metadata": {},
   "outputs": [],
   "source": [
    "from neo4j import GraphDatabase\n",
    "import pandas as pd"
   ]
  },
  {
   "cell_type": "markdown",
   "metadata": {},
   "source": [
    "### Connexion à la base de données neo4j"
   ]
  },
  {
   "cell_type": "code",
   "execution_count": 167,
   "metadata": {},
   "outputs": [],
   "source": [
    "url = \"bolt://localhost:7687\"\n",
    "user = \"neo4j\"\n",
    "password = \"pwd\" "
   ]
  },
  {
   "cell_type": "code",
   "execution_count": 168,
   "metadata": {},
   "outputs": [],
   "source": [
    "driver = GraphDatabase.driver(url, auth=(user, password))\n",
    "neo4j = driver.session()"
   ]
  },
  {
   "cell_type": "markdown",
   "metadata": {},
   "source": [
    "### Création du graphe précédent"
   ]
  },
  {
   "cell_type": "markdown",
   "metadata": {},
   "source": [
    "La création du graphe peut se faire simplement dans neo4j. On peut aussi le faire à partir de Python."
   ]
  },
  {
   "cell_type": "markdown",
   "metadata": {},
   "source": [
    "Dans la suite, on commence par vider la base de données avant de créer les noeuds et les relations, puis on créé notre graphe avec le script ci-dessous :"
   ]
  },
  {
   "cell_type": "code",
   "execution_count": 169,
   "metadata": {},
   "outputs": [
    {
     "data": {
      "text/plain": [
       "<neo4j.work.result.Result at 0x7f82a81926d0>"
      ]
     },
     "execution_count": 169,
     "metadata": {},
     "output_type": "execute_result"
    }
   ],
   "source": [
    "neo4j.run(\"match(n) detach delete n\")\n",
    "neo4j.run(\"\"\"\n",
    "    create (madani:Prof{name:'Madani', city:'El Jadida'})\n",
    "    create (elkafi:Prof{name:'El Kafi', city:'Casablanca'})\n",
    "    create (riffi:Prof{name:'Riffi', city:'Rabat'})\n",
    "    create (silkan:Prof{name:'Silkan', city:'El Jadida'})\n",
    "    create (arch:Cours{label:'Architecture'})\n",
    "    create (algo:Cours{label:'Algorithmique'})\n",
    "    create (c:Cours{label:'Langage C'})\n",
    "    create (cpp:Cours{label:'C++'})\n",
    "    create (bdr:Cours{label:'BDR'})\n",
    "    create (web:Cours{label:'Prog Web'})\n",
    "    create (uml:Cours{label:'UML'})\n",
    "    create (algo)-[:necessite]->(arch)\n",
    "    create (c)-[:necessite]->(algo)\n",
    "    create (cpp)-[:necessite]->(c)\n",
    "    create (bdr)-[:necessite]->(algo)\n",
    "    create (web)-[:necessite]->(algo)\n",
    "    create (web)-[:necessite]->(bdr)\n",
    "    create (uml)-[:necessite]->(bdr)\n",
    "    create (riffi)-[:enseigne]->(algo)\n",
    "    create (riffi)-[:enseigne]->(bdr)\n",
    "    create (madani)-[:enseigne]->(uml)\n",
    "    create (elkafi)-[:enseigne]->(arch)\n",
    "    create (silkan)-[:enseigne]->(cpp)\n",
    "    create (madani)-[:enseigne]->(c)\n",
    "\"\"\")"
   ]
  },
  {
   "cell_type": "markdown",
   "metadata": {},
   "source": [
    "Pour vérifier la création du graphe, on affiche le nombre d'éléments (noeuds et relations) crées en exécutant le script suivant :"
   ]
  },
  {
   "cell_type": "code",
   "execution_count": 170,
   "metadata": {},
   "outputs": [
    {
     "name": "stdout",
     "output_type": "stream",
     "text": [
      "<Record count(n)=11>\n"
     ]
    }
   ],
   "source": [
    "result = neo4j.run(\"match(n) return count(n)\")\n",
    "print(result.single())"
   ]
  },
  {
   "cell_type": "markdown",
   "metadata": {},
   "source": [
    "### Liste de tous les éléments du graphe (noeuds et relations)"
   ]
  },
  {
   "cell_type": "markdown",
   "metadata": {},
   "source": [
    "On aura besoin d'afficher les noeuds et les relations du graphe de la base de données pour avoir une idée sur les différents éléments à manipuler"
   ]
  },
  {
   "cell_type": "code",
   "execution_count": 171,
   "metadata": {},
   "outputs": [
    {
     "data": {
      "text/html": [
       "<div>\n",
       "<style scoped>\n",
       "    .dataframe tbody tr th:only-of-type {\n",
       "        vertical-align: middle;\n",
       "    }\n",
       "\n",
       "    .dataframe tbody tr th {\n",
       "        vertical-align: top;\n",
       "    }\n",
       "\n",
       "    .dataframe thead th {\n",
       "        text-align: right;\n",
       "    }\n",
       "</style>\n",
       "<table border=\"1\" class=\"dataframe\">\n",
       "  <thead>\n",
       "    <tr style=\"text-align: right;\">\n",
       "      <th></th>\n",
       "      <th>Element</th>\n",
       "    </tr>\n",
       "  </thead>\n",
       "  <tbody>\n",
       "    <tr>\n",
       "      <th>0</th>\n",
       "      <td>{'city': 'El Jadida', 'name': 'Madani'}</td>\n",
       "    </tr>\n",
       "    <tr>\n",
       "      <th>1</th>\n",
       "      <td>{'city': 'Casablanca', 'name': 'El Kafi'}</td>\n",
       "    </tr>\n",
       "    <tr>\n",
       "      <th>2</th>\n",
       "      <td>{'city': 'Rabat', 'name': 'Riffi'}</td>\n",
       "    </tr>\n",
       "    <tr>\n",
       "      <th>3</th>\n",
       "      <td>{'city': 'El Jadida', 'name': 'Silkan'}</td>\n",
       "    </tr>\n",
       "    <tr>\n",
       "      <th>4</th>\n",
       "      <td>{'label': 'Architecture'}</td>\n",
       "    </tr>\n",
       "    <tr>\n",
       "      <th>5</th>\n",
       "      <td>{'label': 'Algorithmique'}</td>\n",
       "    </tr>\n",
       "    <tr>\n",
       "      <th>6</th>\n",
       "      <td>{'label': 'Langage C'}</td>\n",
       "    </tr>\n",
       "    <tr>\n",
       "      <th>7</th>\n",
       "      <td>{'label': 'C++'}</td>\n",
       "    </tr>\n",
       "    <tr>\n",
       "      <th>8</th>\n",
       "      <td>{'label': 'BDR'}</td>\n",
       "    </tr>\n",
       "    <tr>\n",
       "      <th>9</th>\n",
       "      <td>{'label': 'Prog Web'}</td>\n",
       "    </tr>\n",
       "    <tr>\n",
       "      <th>10</th>\n",
       "      <td>{'label': 'UML'}</td>\n",
       "    </tr>\n",
       "  </tbody>\n",
       "</table>\n",
       "</div>"
      ],
      "text/plain": [
       "                                      Element\n",
       "0     {'city': 'El Jadida', 'name': 'Madani'}\n",
       "1   {'city': 'Casablanca', 'name': 'El Kafi'}\n",
       "2          {'city': 'Rabat', 'name': 'Riffi'}\n",
       "3     {'city': 'El Jadida', 'name': 'Silkan'}\n",
       "4                   {'label': 'Architecture'}\n",
       "5                  {'label': 'Algorithmique'}\n",
       "6                      {'label': 'Langage C'}\n",
       "7                            {'label': 'C++'}\n",
       "8                            {'label': 'BDR'}\n",
       "9                       {'label': 'Prog Web'}\n",
       "10                           {'label': 'UML'}"
      ]
     },
     "execution_count": 171,
     "metadata": {},
     "output_type": "execute_result"
    }
   ],
   "source": [
    "result = neo4j.run(\"\"\"\n",
    "MATCH (n) return n as Element\n",
    "\"\"\")\n",
    "df = pd.DataFrame(result.data())\n",
    "df"
   ]
  },
  {
   "cell_type": "markdown",
   "metadata": {},
   "source": [
    "Une autre façon qui consite à séparer les noeuds des relations"
   ]
  },
  {
   "cell_type": "code",
   "execution_count": 172,
   "metadata": {},
   "outputs": [
    {
     "data": {
      "text/html": [
       "<div>\n",
       "<style scoped>\n",
       "    .dataframe tbody tr th:only-of-type {\n",
       "        vertical-align: middle;\n",
       "    }\n",
       "\n",
       "    .dataframe tbody tr th {\n",
       "        vertical-align: top;\n",
       "    }\n",
       "\n",
       "    .dataframe thead th {\n",
       "        text-align: right;\n",
       "    }\n",
       "</style>\n",
       "<table border=\"1\" class=\"dataframe\">\n",
       "  <thead>\n",
       "    <tr style=\"text-align: right;\">\n",
       "      <th></th>\n",
       "      <th>StartNode</th>\n",
       "      <th>Relation</th>\n",
       "      <th>EndNode</th>\n",
       "    </tr>\n",
       "  </thead>\n",
       "  <tbody>\n",
       "    <tr>\n",
       "      <th>0</th>\n",
       "      <td>{'city': 'El Jadida', 'name': 'Madani'}</td>\n",
       "      <td>({'city': 'El Jadida', 'name': 'Madani'}, ense...</td>\n",
       "      <td>{'label': 'Langage C'}</td>\n",
       "    </tr>\n",
       "    <tr>\n",
       "      <th>1</th>\n",
       "      <td>{'city': 'El Jadida', 'name': 'Madani'}</td>\n",
       "      <td>({'city': 'El Jadida', 'name': 'Madani'}, ense...</td>\n",
       "      <td>{'label': 'UML'}</td>\n",
       "    </tr>\n",
       "    <tr>\n",
       "      <th>2</th>\n",
       "      <td>{'city': 'Casablanca', 'name': 'El Kafi'}</td>\n",
       "      <td>({'city': 'Casablanca', 'name': 'El Kafi'}, en...</td>\n",
       "      <td>{'label': 'Architecture'}</td>\n",
       "    </tr>\n",
       "    <tr>\n",
       "      <th>3</th>\n",
       "      <td>{'city': 'Rabat', 'name': 'Riffi'}</td>\n",
       "      <td>({'city': 'Rabat', 'name': 'Riffi'}, enseigne,...</td>\n",
       "      <td>{'label': 'BDR'}</td>\n",
       "    </tr>\n",
       "    <tr>\n",
       "      <th>4</th>\n",
       "      <td>{'city': 'Rabat', 'name': 'Riffi'}</td>\n",
       "      <td>({'city': 'Rabat', 'name': 'Riffi'}, enseigne,...</td>\n",
       "      <td>{'label': 'Algorithmique'}</td>\n",
       "    </tr>\n",
       "    <tr>\n",
       "      <th>5</th>\n",
       "      <td>{'city': 'El Jadida', 'name': 'Silkan'}</td>\n",
       "      <td>({'city': 'El Jadida', 'name': 'Silkan'}, ense...</td>\n",
       "      <td>{'label': 'C++'}</td>\n",
       "    </tr>\n",
       "    <tr>\n",
       "      <th>6</th>\n",
       "      <td>{'label': 'Algorithmique'}</td>\n",
       "      <td>({'label': 'Algorithmique'}, necessite, {'labe...</td>\n",
       "      <td>{'label': 'Architecture'}</td>\n",
       "    </tr>\n",
       "    <tr>\n",
       "      <th>7</th>\n",
       "      <td>{'label': 'Langage C'}</td>\n",
       "      <td>({'label': 'Langage C'}, necessite, {'label': ...</td>\n",
       "      <td>{'label': 'Algorithmique'}</td>\n",
       "    </tr>\n",
       "    <tr>\n",
       "      <th>8</th>\n",
       "      <td>{'label': 'C++'}</td>\n",
       "      <td>({'label': 'C++'}, necessite, {'label': 'Langa...</td>\n",
       "      <td>{'label': 'Langage C'}</td>\n",
       "    </tr>\n",
       "    <tr>\n",
       "      <th>9</th>\n",
       "      <td>{'label': 'BDR'}</td>\n",
       "      <td>({'label': 'BDR'}, necessite, {'label': 'Algor...</td>\n",
       "      <td>{'label': 'Algorithmique'}</td>\n",
       "    </tr>\n",
       "    <tr>\n",
       "      <th>10</th>\n",
       "      <td>{'label': 'Prog Web'}</td>\n",
       "      <td>({'label': 'Prog Web'}, necessite, {'label': '...</td>\n",
       "      <td>{'label': 'BDR'}</td>\n",
       "    </tr>\n",
       "    <tr>\n",
       "      <th>11</th>\n",
       "      <td>{'label': 'Prog Web'}</td>\n",
       "      <td>({'label': 'Prog Web'}, necessite, {'label': '...</td>\n",
       "      <td>{'label': 'Algorithmique'}</td>\n",
       "    </tr>\n",
       "    <tr>\n",
       "      <th>12</th>\n",
       "      <td>{'label': 'UML'}</td>\n",
       "      <td>({'label': 'UML'}, necessite, {'label': 'BDR'})</td>\n",
       "      <td>{'label': 'BDR'}</td>\n",
       "    </tr>\n",
       "  </tbody>\n",
       "</table>\n",
       "</div>"
      ],
      "text/plain": [
       "                                    StartNode  \\\n",
       "0     {'city': 'El Jadida', 'name': 'Madani'}   \n",
       "1     {'city': 'El Jadida', 'name': 'Madani'}   \n",
       "2   {'city': 'Casablanca', 'name': 'El Kafi'}   \n",
       "3          {'city': 'Rabat', 'name': 'Riffi'}   \n",
       "4          {'city': 'Rabat', 'name': 'Riffi'}   \n",
       "5     {'city': 'El Jadida', 'name': 'Silkan'}   \n",
       "6                  {'label': 'Algorithmique'}   \n",
       "7                      {'label': 'Langage C'}   \n",
       "8                            {'label': 'C++'}   \n",
       "9                            {'label': 'BDR'}   \n",
       "10                      {'label': 'Prog Web'}   \n",
       "11                      {'label': 'Prog Web'}   \n",
       "12                           {'label': 'UML'}   \n",
       "\n",
       "                                             Relation  \\\n",
       "0   ({'city': 'El Jadida', 'name': 'Madani'}, ense...   \n",
       "1   ({'city': 'El Jadida', 'name': 'Madani'}, ense...   \n",
       "2   ({'city': 'Casablanca', 'name': 'El Kafi'}, en...   \n",
       "3   ({'city': 'Rabat', 'name': 'Riffi'}, enseigne,...   \n",
       "4   ({'city': 'Rabat', 'name': 'Riffi'}, enseigne,...   \n",
       "5   ({'city': 'El Jadida', 'name': 'Silkan'}, ense...   \n",
       "6   ({'label': 'Algorithmique'}, necessite, {'labe...   \n",
       "7   ({'label': 'Langage C'}, necessite, {'label': ...   \n",
       "8   ({'label': 'C++'}, necessite, {'label': 'Langa...   \n",
       "9   ({'label': 'BDR'}, necessite, {'label': 'Algor...   \n",
       "10  ({'label': 'Prog Web'}, necessite, {'label': '...   \n",
       "11  ({'label': 'Prog Web'}, necessite, {'label': '...   \n",
       "12    ({'label': 'UML'}, necessite, {'label': 'BDR'})   \n",
       "\n",
       "                       EndNode  \n",
       "0       {'label': 'Langage C'}  \n",
       "1             {'label': 'UML'}  \n",
       "2    {'label': 'Architecture'}  \n",
       "3             {'label': 'BDR'}  \n",
       "4   {'label': 'Algorithmique'}  \n",
       "5             {'label': 'C++'}  \n",
       "6    {'label': 'Architecture'}  \n",
       "7   {'label': 'Algorithmique'}  \n",
       "8       {'label': 'Langage C'}  \n",
       "9   {'label': 'Algorithmique'}  \n",
       "10            {'label': 'BDR'}  \n",
       "11  {'label': 'Algorithmique'}  \n",
       "12            {'label': 'BDR'}  "
      ]
     },
     "execution_count": 172,
     "metadata": {},
     "output_type": "execute_result"
    }
   ],
   "source": [
    "result = neo4j.run(\"\"\"\n",
    "MATCH (n)-[r]->(m) return n as StartNode, r as Relation, m as EndNode\n",
    "\"\"\")\n",
    "df = pd.DataFrame(result.data())\n",
    "df"
   ]
  },
  {
   "cell_type": "markdown",
   "metadata": {},
   "source": [
    "Une autre façon plus ergonomique :"
   ]
  },
  {
   "cell_type": "code",
   "execution_count": 173,
   "metadata": {},
   "outputs": [
    {
     "data": {
      "text/html": [
       "<div>\n",
       "<style scoped>\n",
       "    .dataframe tbody tr th:only-of-type {\n",
       "        vertical-align: middle;\n",
       "    }\n",
       "\n",
       "    .dataframe tbody tr th {\n",
       "        vertical-align: top;\n",
       "    }\n",
       "\n",
       "    .dataframe thead th {\n",
       "        text-align: right;\n",
       "    }\n",
       "</style>\n",
       "<table border=\"1\" class=\"dataframe\">\n",
       "  <thead>\n",
       "    <tr style=\"text-align: right;\">\n",
       "      <th></th>\n",
       "      <th>StartNode</th>\n",
       "      <th>Relation</th>\n",
       "      <th>EndNode</th>\n",
       "    </tr>\n",
       "  </thead>\n",
       "  <tbody>\n",
       "    <tr>\n",
       "      <th>0</th>\n",
       "      <td>Madani</td>\n",
       "      <td>enseigne</td>\n",
       "      <td>Langage C</td>\n",
       "    </tr>\n",
       "    <tr>\n",
       "      <th>1</th>\n",
       "      <td>Madani</td>\n",
       "      <td>enseigne</td>\n",
       "      <td>UML</td>\n",
       "    </tr>\n",
       "    <tr>\n",
       "      <th>2</th>\n",
       "      <td>El Kafi</td>\n",
       "      <td>enseigne</td>\n",
       "      <td>Architecture</td>\n",
       "    </tr>\n",
       "    <tr>\n",
       "      <th>3</th>\n",
       "      <td>Riffi</td>\n",
       "      <td>enseigne</td>\n",
       "      <td>BDR</td>\n",
       "    </tr>\n",
       "    <tr>\n",
       "      <th>4</th>\n",
       "      <td>Riffi</td>\n",
       "      <td>enseigne</td>\n",
       "      <td>Algorithmique</td>\n",
       "    </tr>\n",
       "    <tr>\n",
       "      <th>5</th>\n",
       "      <td>Silkan</td>\n",
       "      <td>enseigne</td>\n",
       "      <td>C++</td>\n",
       "    </tr>\n",
       "    <tr>\n",
       "      <th>6</th>\n",
       "      <td>None</td>\n",
       "      <td>necessite</td>\n",
       "      <td>Architecture</td>\n",
       "    </tr>\n",
       "    <tr>\n",
       "      <th>7</th>\n",
       "      <td>None</td>\n",
       "      <td>necessite</td>\n",
       "      <td>Algorithmique</td>\n",
       "    </tr>\n",
       "    <tr>\n",
       "      <th>8</th>\n",
       "      <td>None</td>\n",
       "      <td>necessite</td>\n",
       "      <td>Langage C</td>\n",
       "    </tr>\n",
       "    <tr>\n",
       "      <th>9</th>\n",
       "      <td>None</td>\n",
       "      <td>necessite</td>\n",
       "      <td>Algorithmique</td>\n",
       "    </tr>\n",
       "    <tr>\n",
       "      <th>10</th>\n",
       "      <td>None</td>\n",
       "      <td>necessite</td>\n",
       "      <td>BDR</td>\n",
       "    </tr>\n",
       "    <tr>\n",
       "      <th>11</th>\n",
       "      <td>None</td>\n",
       "      <td>necessite</td>\n",
       "      <td>Algorithmique</td>\n",
       "    </tr>\n",
       "    <tr>\n",
       "      <th>12</th>\n",
       "      <td>None</td>\n",
       "      <td>necessite</td>\n",
       "      <td>BDR</td>\n",
       "    </tr>\n",
       "  </tbody>\n",
       "</table>\n",
       "</div>"
      ],
      "text/plain": [
       "   StartNode   Relation        EndNode\n",
       "0     Madani   enseigne      Langage C\n",
       "1     Madani   enseigne            UML\n",
       "2    El Kafi   enseigne   Architecture\n",
       "3      Riffi   enseigne            BDR\n",
       "4      Riffi   enseigne  Algorithmique\n",
       "5     Silkan   enseigne            C++\n",
       "6       None  necessite   Architecture\n",
       "7       None  necessite  Algorithmique\n",
       "8       None  necessite      Langage C\n",
       "9       None  necessite  Algorithmique\n",
       "10      None  necessite            BDR\n",
       "11      None  necessite  Algorithmique\n",
       "12      None  necessite            BDR"
      ]
     },
     "execution_count": 173,
     "metadata": {},
     "output_type": "execute_result"
    }
   ],
   "source": [
    "result = neo4j.run(\"\"\"\n",
    "MATCH (n)-[r]->(m) return n.name as StartNode, type(r) as Relation, m.label as EndNode\n",
    "\"\"\")\n",
    "df = pd.DataFrame(result.data())\n",
    "df"
   ]
  },
  {
   "cell_type": "markdown",
   "metadata": {},
   "source": [
    "### Liste de tous les professeurs"
   ]
  },
  {
   "cell_type": "markdown",
   "metadata": {},
   "source": [
    "On peut afficher les données sous forme d'objets JSON"
   ]
  },
  {
   "cell_type": "code",
   "execution_count": 174,
   "metadata": {},
   "outputs": [
    {
     "data": {
      "text/html": [
       "<div>\n",
       "<style scoped>\n",
       "    .dataframe tbody tr th:only-of-type {\n",
       "        vertical-align: middle;\n",
       "    }\n",
       "\n",
       "    .dataframe tbody tr th {\n",
       "        vertical-align: top;\n",
       "    }\n",
       "\n",
       "    .dataframe thead th {\n",
       "        text-align: right;\n",
       "    }\n",
       "</style>\n",
       "<table border=\"1\" class=\"dataframe\">\n",
       "  <thead>\n",
       "    <tr style=\"text-align: right;\">\n",
       "      <th></th>\n",
       "      <th>Professeur</th>\n",
       "    </tr>\n",
       "  </thead>\n",
       "  <tbody>\n",
       "    <tr>\n",
       "      <th>0</th>\n",
       "      <td>{'city': 'El Jadida', 'name': 'Madani'}</td>\n",
       "    </tr>\n",
       "    <tr>\n",
       "      <th>1</th>\n",
       "      <td>{'city': 'Casablanca', 'name': 'El Kafi'}</td>\n",
       "    </tr>\n",
       "    <tr>\n",
       "      <th>2</th>\n",
       "      <td>{'city': 'Rabat', 'name': 'Riffi'}</td>\n",
       "    </tr>\n",
       "    <tr>\n",
       "      <th>3</th>\n",
       "      <td>{'city': 'El Jadida', 'name': 'Silkan'}</td>\n",
       "    </tr>\n",
       "  </tbody>\n",
       "</table>\n",
       "</div>"
      ],
      "text/plain": [
       "                                  Professeur\n",
       "0    {'city': 'El Jadida', 'name': 'Madani'}\n",
       "1  {'city': 'Casablanca', 'name': 'El Kafi'}\n",
       "2         {'city': 'Rabat', 'name': 'Riffi'}\n",
       "3    {'city': 'El Jadida', 'name': 'Silkan'}"
      ]
     },
     "execution_count": 174,
     "metadata": {},
     "output_type": "execute_result"
    }
   ],
   "source": [
    "result = neo4j.run(\"\"\"\n",
    "MATCH (n:Prof) return n as Professeur\n",
    "\"\"\")\n",
    "df = pd.DataFrame(result.data())\n",
    "df"
   ]
  },
  {
   "cell_type": "markdown",
   "metadata": {},
   "source": [
    "On peut aussi afficher les informations de manière séparée, par exemple le nom et la ville de chaque professeur"
   ]
  },
  {
   "cell_type": "code",
   "execution_count": 175,
   "metadata": {},
   "outputs": [
    {
     "data": {
      "text/html": [
       "<div>\n",
       "<style scoped>\n",
       "    .dataframe tbody tr th:only-of-type {\n",
       "        vertical-align: middle;\n",
       "    }\n",
       "\n",
       "    .dataframe tbody tr th {\n",
       "        vertical-align: top;\n",
       "    }\n",
       "\n",
       "    .dataframe thead th {\n",
       "        text-align: right;\n",
       "    }\n",
       "</style>\n",
       "<table border=\"1\" class=\"dataframe\">\n",
       "  <thead>\n",
       "    <tr style=\"text-align: right;\">\n",
       "      <th></th>\n",
       "      <th>Name</th>\n",
       "      <th>City</th>\n",
       "    </tr>\n",
       "  </thead>\n",
       "  <tbody>\n",
       "    <tr>\n",
       "      <th>0</th>\n",
       "      <td>Madani</td>\n",
       "      <td>El Jadida</td>\n",
       "    </tr>\n",
       "    <tr>\n",
       "      <th>1</th>\n",
       "      <td>El Kafi</td>\n",
       "      <td>Casablanca</td>\n",
       "    </tr>\n",
       "    <tr>\n",
       "      <th>2</th>\n",
       "      <td>Riffi</td>\n",
       "      <td>Rabat</td>\n",
       "    </tr>\n",
       "    <tr>\n",
       "      <th>3</th>\n",
       "      <td>Silkan</td>\n",
       "      <td>El Jadida</td>\n",
       "    </tr>\n",
       "  </tbody>\n",
       "</table>\n",
       "</div>"
      ],
      "text/plain": [
       "      Name        City\n",
       "0   Madani   El Jadida\n",
       "1  El Kafi  Casablanca\n",
       "2    Riffi       Rabat\n",
       "3   Silkan   El Jadida"
      ]
     },
     "execution_count": 175,
     "metadata": {},
     "output_type": "execute_result"
    }
   ],
   "source": [
    "result = neo4j.run(\"\"\"\n",
    "MATCH (n:Prof) return n.name as Name, n.city as City\n",
    "\"\"\")\n",
    "df = pd.DataFrame(result.data())\n",
    "df"
   ]
  },
  {
   "cell_type": "markdown",
   "metadata": {},
   "source": [
    "Comme on peut projeter sur une information donnée. Ici, on est intéressé seulement le nom de chaque professeur."
   ]
  },
  {
   "cell_type": "code",
   "execution_count": 176,
   "metadata": {},
   "outputs": [
    {
     "data": {
      "text/html": [
       "<div>\n",
       "<style scoped>\n",
       "    .dataframe tbody tr th:only-of-type {\n",
       "        vertical-align: middle;\n",
       "    }\n",
       "\n",
       "    .dataframe tbody tr th {\n",
       "        vertical-align: top;\n",
       "    }\n",
       "\n",
       "    .dataframe thead th {\n",
       "        text-align: right;\n",
       "    }\n",
       "</style>\n",
       "<table border=\"1\" class=\"dataframe\">\n",
       "  <thead>\n",
       "    <tr style=\"text-align: right;\">\n",
       "      <th></th>\n",
       "      <th>Name</th>\n",
       "    </tr>\n",
       "  </thead>\n",
       "  <tbody>\n",
       "    <tr>\n",
       "      <th>0</th>\n",
       "      <td>Madani</td>\n",
       "    </tr>\n",
       "    <tr>\n",
       "      <th>1</th>\n",
       "      <td>El Kafi</td>\n",
       "    </tr>\n",
       "    <tr>\n",
       "      <th>2</th>\n",
       "      <td>Riffi</td>\n",
       "    </tr>\n",
       "    <tr>\n",
       "      <th>3</th>\n",
       "      <td>Silkan</td>\n",
       "    </tr>\n",
       "  </tbody>\n",
       "</table>\n",
       "</div>"
      ],
      "text/plain": [
       "      Name\n",
       "0   Madani\n",
       "1  El Kafi\n",
       "2    Riffi\n",
       "3   Silkan"
      ]
     },
     "execution_count": 176,
     "metadata": {},
     "output_type": "execute_result"
    }
   ],
   "source": [
    "result = neo4j.run(\"\"\"\n",
    "MATCH (n:Prof) return n.name as Name\n",
    "\"\"\")\n",
    "df = pd.DataFrame(result.data())\n",
    "df"
   ]
  },
  {
   "cell_type": "markdown",
   "metadata": {},
   "source": [
    "### Liste de tous les cours"
   ]
  },
  {
   "cell_type": "code",
   "execution_count": 177,
   "metadata": {},
   "outputs": [
    {
     "data": {
      "text/html": [
       "<div>\n",
       "<style scoped>\n",
       "    .dataframe tbody tr th:only-of-type {\n",
       "        vertical-align: middle;\n",
       "    }\n",
       "\n",
       "    .dataframe tbody tr th {\n",
       "        vertical-align: top;\n",
       "    }\n",
       "\n",
       "    .dataframe thead th {\n",
       "        text-align: right;\n",
       "    }\n",
       "</style>\n",
       "<table border=\"1\" class=\"dataframe\">\n",
       "  <thead>\n",
       "    <tr style=\"text-align: right;\">\n",
       "      <th></th>\n",
       "      <th>Cours</th>\n",
       "    </tr>\n",
       "  </thead>\n",
       "  <tbody>\n",
       "    <tr>\n",
       "      <th>0</th>\n",
       "      <td>{'label': 'Architecture'}</td>\n",
       "    </tr>\n",
       "    <tr>\n",
       "      <th>1</th>\n",
       "      <td>{'label': 'Algorithmique'}</td>\n",
       "    </tr>\n",
       "    <tr>\n",
       "      <th>2</th>\n",
       "      <td>{'label': 'Langage C'}</td>\n",
       "    </tr>\n",
       "    <tr>\n",
       "      <th>3</th>\n",
       "      <td>{'label': 'C++'}</td>\n",
       "    </tr>\n",
       "    <tr>\n",
       "      <th>4</th>\n",
       "      <td>{'label': 'BDR'}</td>\n",
       "    </tr>\n",
       "    <tr>\n",
       "      <th>5</th>\n",
       "      <td>{'label': 'Prog Web'}</td>\n",
       "    </tr>\n",
       "    <tr>\n",
       "      <th>6</th>\n",
       "      <td>{'label': 'UML'}</td>\n",
       "    </tr>\n",
       "  </tbody>\n",
       "</table>\n",
       "</div>"
      ],
      "text/plain": [
       "                        Cours\n",
       "0   {'label': 'Architecture'}\n",
       "1  {'label': 'Algorithmique'}\n",
       "2      {'label': 'Langage C'}\n",
       "3            {'label': 'C++'}\n",
       "4            {'label': 'BDR'}\n",
       "5       {'label': 'Prog Web'}\n",
       "6            {'label': 'UML'}"
      ]
     },
     "execution_count": 177,
     "metadata": {},
     "output_type": "execute_result"
    }
   ],
   "source": [
    "result = neo4j.run(\"\"\"\n",
    "    match (n:Cours) return n as Cours\n",
    "\"\"\")\n",
    "df = pd.DataFrame(result.data())\n",
    "df"
   ]
  },
  {
   "cell_type": "code",
   "execution_count": 178,
   "metadata": {},
   "outputs": [
    {
     "data": {
      "text/html": [
       "<div>\n",
       "<style scoped>\n",
       "    .dataframe tbody tr th:only-of-type {\n",
       "        vertical-align: middle;\n",
       "    }\n",
       "\n",
       "    .dataframe tbody tr th {\n",
       "        vertical-align: top;\n",
       "    }\n",
       "\n",
       "    .dataframe thead th {\n",
       "        text-align: right;\n",
       "    }\n",
       "</style>\n",
       "<table border=\"1\" class=\"dataframe\">\n",
       "  <thead>\n",
       "    <tr style=\"text-align: right;\">\n",
       "      <th></th>\n",
       "      <th>Label</th>\n",
       "    </tr>\n",
       "  </thead>\n",
       "  <tbody>\n",
       "    <tr>\n",
       "      <th>0</th>\n",
       "      <td>Architecture</td>\n",
       "    </tr>\n",
       "    <tr>\n",
       "      <th>1</th>\n",
       "      <td>Algorithmique</td>\n",
       "    </tr>\n",
       "    <tr>\n",
       "      <th>2</th>\n",
       "      <td>Langage C</td>\n",
       "    </tr>\n",
       "    <tr>\n",
       "      <th>3</th>\n",
       "      <td>C++</td>\n",
       "    </tr>\n",
       "    <tr>\n",
       "      <th>4</th>\n",
       "      <td>BDR</td>\n",
       "    </tr>\n",
       "    <tr>\n",
       "      <th>5</th>\n",
       "      <td>Prog Web</td>\n",
       "    </tr>\n",
       "    <tr>\n",
       "      <th>6</th>\n",
       "      <td>UML</td>\n",
       "    </tr>\n",
       "  </tbody>\n",
       "</table>\n",
       "</div>"
      ],
      "text/plain": [
       "           Label\n",
       "0   Architecture\n",
       "1  Algorithmique\n",
       "2      Langage C\n",
       "3            C++\n",
       "4            BDR\n",
       "5       Prog Web\n",
       "6            UML"
      ]
     },
     "execution_count": 178,
     "metadata": {},
     "output_type": "execute_result"
    }
   ],
   "source": [
    "result = neo4j.run(\"\"\"\n",
    "    match (n:Cours) return n.label as Label\n",
    "\"\"\")\n",
    "df = pd.DataFrame(result.data())\n",
    "df"
   ]
  },
  {
   "cell_type": "markdown",
   "metadata": {},
   "source": [
    "### Les cours enseignés par 'Madani'"
   ]
  },
  {
   "cell_type": "code",
   "execution_count": 179,
   "metadata": {},
   "outputs": [
    {
     "data": {
      "text/html": [
       "<div>\n",
       "<style scoped>\n",
       "    .dataframe tbody tr th:only-of-type {\n",
       "        vertical-align: middle;\n",
       "    }\n",
       "\n",
       "    .dataframe tbody tr th {\n",
       "        vertical-align: top;\n",
       "    }\n",
       "\n",
       "    .dataframe thead th {\n",
       "        text-align: right;\n",
       "    }\n",
       "</style>\n",
       "<table border=\"1\" class=\"dataframe\">\n",
       "  <thead>\n",
       "    <tr style=\"text-align: right;\">\n",
       "      <th></th>\n",
       "      <th>cours</th>\n",
       "    </tr>\n",
       "  </thead>\n",
       "  <tbody>\n",
       "    <tr>\n",
       "      <th>0</th>\n",
       "      <td>Langage C</td>\n",
       "    </tr>\n",
       "    <tr>\n",
       "      <th>1</th>\n",
       "      <td>UML</td>\n",
       "    </tr>\n",
       "  </tbody>\n",
       "</table>\n",
       "</div>"
      ],
      "text/plain": [
       "       cours\n",
       "0  Langage C\n",
       "1        UML"
      ]
     },
     "execution_count": 179,
     "metadata": {},
     "output_type": "execute_result"
    }
   ],
   "source": [
    "result = neo4j.run(\"\"\"\n",
    "    match(:Prof{name:'Madani'})-[:enseigne]->(cours)\n",
    "    return cours.label as cours\n",
    "\"\"\")\n",
    "df = pd.DataFrame(result.data())\n",
    "df"
   ]
  },
  {
   "cell_type": "markdown",
   "metadata": {},
   "source": [
    "Une autre syntaxe qui ressemble à celle de SQL (bases de données relationnelle)"
   ]
  },
  {
   "cell_type": "code",
   "execution_count": 180,
   "metadata": {},
   "outputs": [
    {
     "data": {
      "text/html": [
       "<div>\n",
       "<style scoped>\n",
       "    .dataframe tbody tr th:only-of-type {\n",
       "        vertical-align: middle;\n",
       "    }\n",
       "\n",
       "    .dataframe tbody tr th {\n",
       "        vertical-align: top;\n",
       "    }\n",
       "\n",
       "    .dataframe thead th {\n",
       "        text-align: right;\n",
       "    }\n",
       "</style>\n",
       "<table border=\"1\" class=\"dataframe\">\n",
       "  <thead>\n",
       "    <tr style=\"text-align: right;\">\n",
       "      <th></th>\n",
       "      <th>cours</th>\n",
       "    </tr>\n",
       "  </thead>\n",
       "  <tbody>\n",
       "    <tr>\n",
       "      <th>0</th>\n",
       "      <td>Langage C</td>\n",
       "    </tr>\n",
       "    <tr>\n",
       "      <th>1</th>\n",
       "      <td>UML</td>\n",
       "    </tr>\n",
       "  </tbody>\n",
       "</table>\n",
       "</div>"
      ],
      "text/plain": [
       "       cours\n",
       "0  Langage C\n",
       "1        UML"
      ]
     },
     "execution_count": 180,
     "metadata": {},
     "output_type": "execute_result"
    }
   ],
   "source": [
    "result = neo4j.run(\"\"\"\n",
    "    match(p)-[:enseigne]->(cours)\n",
    "    where p.name='Madani'\n",
    "    return cours.label as cours\n",
    "\"\"\")\n",
    "df = pd.DataFrame(result.data())\n",
    "df"
   ]
  },
  {
   "cell_type": "markdown",
   "metadata": {},
   "source": [
    "### Les professeurs assurant le cours de UML"
   ]
  },
  {
   "cell_type": "code",
   "execution_count": 181,
   "metadata": {},
   "outputs": [
    {
     "data": {
      "text/html": [
       "<div>\n",
       "<style scoped>\n",
       "    .dataframe tbody tr th:only-of-type {\n",
       "        vertical-align: middle;\n",
       "    }\n",
       "\n",
       "    .dataframe tbody tr th {\n",
       "        vertical-align: top;\n",
       "    }\n",
       "\n",
       "    .dataframe thead th {\n",
       "        text-align: right;\n",
       "    }\n",
       "</style>\n",
       "<table border=\"1\" class=\"dataframe\">\n",
       "  <thead>\n",
       "    <tr style=\"text-align: right;\">\n",
       "      <th></th>\n",
       "      <th>name</th>\n",
       "    </tr>\n",
       "  </thead>\n",
       "  <tbody>\n",
       "    <tr>\n",
       "      <th>0</th>\n",
       "      <td>Madani</td>\n",
       "    </tr>\n",
       "  </tbody>\n",
       "</table>\n",
       "</div>"
      ],
      "text/plain": [
       "     name\n",
       "0  Madani"
      ]
     },
     "execution_count": 181,
     "metadata": {},
     "output_type": "execute_result"
    }
   ],
   "source": [
    "result = neo4j.run(\"\"\"\n",
    "    match (prof)-[:enseigne]->(:Cours{label:'UML'})\n",
    "    return prof.name as name\n",
    "\"\"\")\n",
    "df = pd.DataFrame(result.data())\n",
    "df"
   ]
  },
  {
   "cell_type": "markdown",
   "metadata": {},
   "source": [
    "### Les pre-requis de module C++"
   ]
  },
  {
   "cell_type": "markdown",
   "metadata": {},
   "source": [
    "Dans le premier exemple, on affiche le cours directement lié à C++"
   ]
  },
  {
   "cell_type": "code",
   "execution_count": 182,
   "metadata": {},
   "outputs": [
    {
     "data": {
      "text/html": [
       "<div>\n",
       "<style scoped>\n",
       "    .dataframe tbody tr th:only-of-type {\n",
       "        vertical-align: middle;\n",
       "    }\n",
       "\n",
       "    .dataframe tbody tr th {\n",
       "        vertical-align: top;\n",
       "    }\n",
       "\n",
       "    .dataframe thead th {\n",
       "        text-align: right;\n",
       "    }\n",
       "</style>\n",
       "<table border=\"1\" class=\"dataframe\">\n",
       "  <thead>\n",
       "    <tr style=\"text-align: right;\">\n",
       "      <th></th>\n",
       "      <th>prerequis</th>\n",
       "    </tr>\n",
       "  </thead>\n",
       "  <tbody>\n",
       "    <tr>\n",
       "      <th>0</th>\n",
       "      <td>Langage C</td>\n",
       "    </tr>\n",
       "  </tbody>\n",
       "</table>\n",
       "</div>"
      ],
      "text/plain": [
       "   prerequis\n",
       "0  Langage C"
      ]
     },
     "execution_count": 182,
     "metadata": {},
     "output_type": "execute_result"
    }
   ],
   "source": [
    "result = neo4j.run(\"\"\"\n",
    "    match (cours)<-[:necessite]-(:Cours{label:'C++'})\n",
    "    return cours.label as prerequis\n",
    "\"\"\")\n",
    "df = pd.DataFrame(result.data())\n",
    "df"
   ]
  },
  {
   "cell_type": "markdown",
   "metadata": {},
   "source": [
    "Par contre ici, on désire afficher tous les cours constituant un pré-requis pour le langage C++. Pour cela, on doit récupérer tous les chemins (paths) partant du cours C++"
   ]
  },
  {
   "cell_type": "code",
   "execution_count": 183,
   "metadata": {},
   "outputs": [
    {
     "data": {
      "text/html": [
       "<div>\n",
       "<style scoped>\n",
       "    .dataframe tbody tr th:only-of-type {\n",
       "        vertical-align: middle;\n",
       "    }\n",
       "\n",
       "    .dataframe tbody tr th {\n",
       "        vertical-align: top;\n",
       "    }\n",
       "\n",
       "    .dataframe thead th {\n",
       "        text-align: right;\n",
       "    }\n",
       "</style>\n",
       "<table border=\"1\" class=\"dataframe\">\n",
       "  <thead>\n",
       "    <tr style=\"text-align: right;\">\n",
       "      <th></th>\n",
       "      <th>prerequis</th>\n",
       "    </tr>\n",
       "  </thead>\n",
       "  <tbody>\n",
       "    <tr>\n",
       "      <th>0</th>\n",
       "      <td>Langage C</td>\n",
       "    </tr>\n",
       "    <tr>\n",
       "      <th>1</th>\n",
       "      <td>Algorithmique</td>\n",
       "    </tr>\n",
       "    <tr>\n",
       "      <th>2</th>\n",
       "      <td>Architecture</td>\n",
       "    </tr>\n",
       "  </tbody>\n",
       "</table>\n",
       "</div>"
      ],
      "text/plain": [
       "       prerequis\n",
       "0      Langage C\n",
       "1  Algorithmique\n",
       "2   Architecture"
      ]
     },
     "execution_count": 183,
     "metadata": {},
     "output_type": "execute_result"
    }
   ],
   "source": [
    "result = neo4j.run(\"\"\"\n",
    "    match path = (cours)<-[*]-(:Cours{label:'C++'})\n",
    "    return cours.label as prerequis\n",
    "\"\"\")\n",
    "df = pd.DataFrame(result.data())\n",
    "df"
   ]
  },
  {
   "cell_type": "markdown",
   "metadata": {},
   "source": [
    "## Liste des professeurs par noms décroissants"
   ]
  },
  {
   "cell_type": "code",
   "execution_count": 184,
   "metadata": {},
   "outputs": [
    {
     "data": {
      "text/html": [
       "<div>\n",
       "<style scoped>\n",
       "    .dataframe tbody tr th:only-of-type {\n",
       "        vertical-align: middle;\n",
       "    }\n",
       "\n",
       "    .dataframe tbody tr th {\n",
       "        vertical-align: top;\n",
       "    }\n",
       "\n",
       "    .dataframe thead th {\n",
       "        text-align: right;\n",
       "    }\n",
       "</style>\n",
       "<table border=\"1\" class=\"dataframe\">\n",
       "  <thead>\n",
       "    <tr style=\"text-align: right;\">\n",
       "      <th></th>\n",
       "      <th>name</th>\n",
       "    </tr>\n",
       "  </thead>\n",
       "  <tbody>\n",
       "    <tr>\n",
       "      <th>0</th>\n",
       "      <td>Silkan</td>\n",
       "    </tr>\n",
       "    <tr>\n",
       "      <th>1</th>\n",
       "      <td>Riffi</td>\n",
       "    </tr>\n",
       "    <tr>\n",
       "      <th>2</th>\n",
       "      <td>Madani</td>\n",
       "    </tr>\n",
       "    <tr>\n",
       "      <th>3</th>\n",
       "      <td>El Kafi</td>\n",
       "    </tr>\n",
       "  </tbody>\n",
       "</table>\n",
       "</div>"
      ],
      "text/plain": [
       "      name\n",
       "0   Silkan\n",
       "1    Riffi\n",
       "2   Madani\n",
       "3  El Kafi"
      ]
     },
     "execution_count": 184,
     "metadata": {},
     "output_type": "execute_result"
    }
   ],
   "source": [
    "result = neo4j.run(\"\"\"\n",
    "    match(p:Prof)\n",
    "    return p.name as name\n",
    "    order by name desc\n",
    "    //order by name\n",
    "\"\"\")\n",
    "df = pd.DataFrame(result.data())\n",
    "df"
   ]
  },
  {
   "cell_type": "markdown",
   "metadata": {},
   "source": [
    "## Liste des 2 premiers professeurs par noms décroissants"
   ]
  },
  {
   "cell_type": "code",
   "execution_count": 185,
   "metadata": {},
   "outputs": [
    {
     "data": {
      "text/html": [
       "<div>\n",
       "<style scoped>\n",
       "    .dataframe tbody tr th:only-of-type {\n",
       "        vertical-align: middle;\n",
       "    }\n",
       "\n",
       "    .dataframe tbody tr th {\n",
       "        vertical-align: top;\n",
       "    }\n",
       "\n",
       "    .dataframe thead th {\n",
       "        text-align: right;\n",
       "    }\n",
       "</style>\n",
       "<table border=\"1\" class=\"dataframe\">\n",
       "  <thead>\n",
       "    <tr style=\"text-align: right;\">\n",
       "      <th></th>\n",
       "      <th>name</th>\n",
       "    </tr>\n",
       "  </thead>\n",
       "  <tbody>\n",
       "    <tr>\n",
       "      <th>0</th>\n",
       "      <td>Silkan</td>\n",
       "    </tr>\n",
       "    <tr>\n",
       "      <th>1</th>\n",
       "      <td>Riffi</td>\n",
       "    </tr>\n",
       "  </tbody>\n",
       "</table>\n",
       "</div>"
      ],
      "text/plain": [
       "     name\n",
       "0  Silkan\n",
       "1   Riffi"
      ]
     },
     "execution_count": 185,
     "metadata": {},
     "output_type": "execute_result"
    }
   ],
   "source": [
    "result = neo4j.run(\"\"\"\n",
    "    match(p:Prof)\n",
    "    return p.name as name\n",
    "    order by name desc\n",
    "    limit 2\n",
    "\"\"\")\n",
    "df = pd.DataFrame(result.data())\n",
    "df"
   ]
  },
  {
   "cell_type": "markdown",
   "metadata": {},
   "source": [
    "## Liste des 2 premiers professeurs par noms décroissants, en commençant par le 3ème"
   ]
  },
  {
   "cell_type": "code",
   "execution_count": 186,
   "metadata": {},
   "outputs": [
    {
     "data": {
      "text/html": [
       "<div>\n",
       "<style scoped>\n",
       "    .dataframe tbody tr th:only-of-type {\n",
       "        vertical-align: middle;\n",
       "    }\n",
       "\n",
       "    .dataframe tbody tr th {\n",
       "        vertical-align: top;\n",
       "    }\n",
       "\n",
       "    .dataframe thead th {\n",
       "        text-align: right;\n",
       "    }\n",
       "</style>\n",
       "<table border=\"1\" class=\"dataframe\">\n",
       "  <thead>\n",
       "    <tr style=\"text-align: right;\">\n",
       "      <th></th>\n",
       "      <th>name</th>\n",
       "    </tr>\n",
       "  </thead>\n",
       "  <tbody>\n",
       "    <tr>\n",
       "      <th>0</th>\n",
       "      <td>Madani</td>\n",
       "    </tr>\n",
       "    <tr>\n",
       "      <th>1</th>\n",
       "      <td>El Kafi</td>\n",
       "    </tr>\n",
       "  </tbody>\n",
       "</table>\n",
       "</div>"
      ],
      "text/plain": [
       "      name\n",
       "0   Madani\n",
       "1  El Kafi"
      ]
     },
     "execution_count": 186,
     "metadata": {},
     "output_type": "execute_result"
    }
   ],
   "source": [
    "result = neo4j.run(\"\"\"\n",
    "    match(p:Prof)\n",
    "    return p.name as name\n",
    "    order by name desc\n",
    "    skip 2\n",
    "    limit 2\n",
    "\"\"\")\n",
    "df = pd.DataFrame(result.data())\n",
    "df"
   ]
  },
  {
   "cell_type": "markdown",
   "metadata": {},
   "source": [
    "### Ajouter la proprité coefficient aux noeuds Cours"
   ]
  },
  {
   "cell_type": "code",
   "execution_count": 187,
   "metadata": {},
   "outputs": [
    {
     "data": {
      "text/plain": [
       "<neo4j.work.result.Result at 0x7f82d80f00a0>"
      ]
     },
     "execution_count": 187,
     "metadata": {},
     "output_type": "execute_result"
    }
   ],
   "source": [
    "neo4j.run(\"\"\"\n",
    "    match(c:Cours{label:'Architecture'})\n",
    "    set c.coeff=1.5\n",
    "    return c\n",
    "\"\"\")\n",
    "neo4j.run(\"\"\"\n",
    "    match(c:Cours{label:'Algorithmique'})\n",
    "    set c.coeff=1.5\n",
    "    return c\n",
    "\"\"\")\n",
    "neo4j.run(\"\"\"\n",
    "    match(c:Cours{label:'Langage C'})\n",
    "    set c.coeff=2\n",
    "    return c\n",
    "\"\"\")\n",
    "neo4j.run(\"\"\"\n",
    "    match(c:Cours{label:'Prog Web'})\n",
    "    set c.coeff=3\n",
    "    return c\n",
    "\"\"\")\n",
    "neo4j.run(\"\"\"\n",
    "    match(c:Cours{label:'C++'})\n",
    "    set c.coeff=4\n",
    "    return c\n",
    "\"\"\")\n",
    "neo4j.run(\"\"\"\n",
    "    match(c:Cours{label:'BDR'})\n",
    "    set c.coeff=4\n",
    "    return c\n",
    "\"\"\")\n",
    "neo4j.run(\"\"\"\n",
    "    match(c:Cours{label:'UML'})\n",
    "    set c.coeff=5\n",
    "    return c\n",
    "\"\"\")"
   ]
  },
  {
   "cell_type": "code",
   "execution_count": 188,
   "metadata": {},
   "outputs": [
    {
     "data": {
      "text/html": [
       "<div>\n",
       "<style scoped>\n",
       "    .dataframe tbody tr th:only-of-type {\n",
       "        vertical-align: middle;\n",
       "    }\n",
       "\n",
       "    .dataframe tbody tr th {\n",
       "        vertical-align: top;\n",
       "    }\n",
       "\n",
       "    .dataframe thead th {\n",
       "        text-align: right;\n",
       "    }\n",
       "</style>\n",
       "<table border=\"1\" class=\"dataframe\">\n",
       "  <thead>\n",
       "    <tr style=\"text-align: right;\">\n",
       "      <th></th>\n",
       "      <th>c.label</th>\n",
       "      <th>c.coeff</th>\n",
       "    </tr>\n",
       "  </thead>\n",
       "  <tbody>\n",
       "    <tr>\n",
       "      <th>0</th>\n",
       "      <td>Architecture</td>\n",
       "      <td>1.5</td>\n",
       "    </tr>\n",
       "    <tr>\n",
       "      <th>1</th>\n",
       "      <td>Algorithmique</td>\n",
       "      <td>1.5</td>\n",
       "    </tr>\n",
       "    <tr>\n",
       "      <th>2</th>\n",
       "      <td>Langage C</td>\n",
       "      <td>2.0</td>\n",
       "    </tr>\n",
       "    <tr>\n",
       "      <th>3</th>\n",
       "      <td>C++</td>\n",
       "      <td>4.0</td>\n",
       "    </tr>\n",
       "    <tr>\n",
       "      <th>4</th>\n",
       "      <td>BDR</td>\n",
       "      <td>4.0</td>\n",
       "    </tr>\n",
       "    <tr>\n",
       "      <th>5</th>\n",
       "      <td>Prog Web</td>\n",
       "      <td>3.0</td>\n",
       "    </tr>\n",
       "    <tr>\n",
       "      <th>6</th>\n",
       "      <td>UML</td>\n",
       "      <td>5.0</td>\n",
       "    </tr>\n",
       "  </tbody>\n",
       "</table>\n",
       "</div>"
      ],
      "text/plain": [
       "         c.label  c.coeff\n",
       "0   Architecture      1.5\n",
       "1  Algorithmique      1.5\n",
       "2      Langage C      2.0\n",
       "3            C++      4.0\n",
       "4            BDR      4.0\n",
       "5       Prog Web      3.0\n",
       "6            UML      5.0"
      ]
     },
     "execution_count": 188,
     "metadata": {},
     "output_type": "execute_result"
    }
   ],
   "source": [
    "result = neo4j.run(\"\"\"\n",
    "    match(c:Cours)\n",
    "    return c.label, c.coeff\n",
    "\"\"\")\n",
    "df = pd.DataFrame(result.data())\n",
    "df"
   ]
  },
  {
   "cell_type": "markdown",
   "metadata": {},
   "source": [
    "### Modifier la valeur de la propriété coefficient du cours 'Prog Web'"
   ]
  },
  {
   "cell_type": "code",
   "execution_count": 189,
   "metadata": {},
   "outputs": [
    {
     "data": {
      "text/html": [
       "<div>\n",
       "<style scoped>\n",
       "    .dataframe tbody tr th:only-of-type {\n",
       "        vertical-align: middle;\n",
       "    }\n",
       "\n",
       "    .dataframe tbody tr th {\n",
       "        vertical-align: top;\n",
       "    }\n",
       "\n",
       "    .dataframe thead th {\n",
       "        text-align: right;\n",
       "    }\n",
       "</style>\n",
       "<table border=\"1\" class=\"dataframe\">\n",
       "  <thead>\n",
       "    <tr style=\"text-align: right;\">\n",
       "      <th></th>\n",
       "      <th>c.label</th>\n",
       "      <th>c.coeff</th>\n",
       "    </tr>\n",
       "  </thead>\n",
       "  <tbody>\n",
       "    <tr>\n",
       "      <th>0</th>\n",
       "      <td>Architecture</td>\n",
       "      <td>1.5</td>\n",
       "    </tr>\n",
       "    <tr>\n",
       "      <th>1</th>\n",
       "      <td>Algorithmique</td>\n",
       "      <td>1.5</td>\n",
       "    </tr>\n",
       "    <tr>\n",
       "      <th>2</th>\n",
       "      <td>Langage C</td>\n",
       "      <td>2.0</td>\n",
       "    </tr>\n",
       "    <tr>\n",
       "      <th>3</th>\n",
       "      <td>C++</td>\n",
       "      <td>4.0</td>\n",
       "    </tr>\n",
       "    <tr>\n",
       "      <th>4</th>\n",
       "      <td>BDR</td>\n",
       "      <td>4.0</td>\n",
       "    </tr>\n",
       "    <tr>\n",
       "      <th>5</th>\n",
       "      <td>Prog Web</td>\n",
       "      <td>3.5</td>\n",
       "    </tr>\n",
       "    <tr>\n",
       "      <th>6</th>\n",
       "      <td>UML</td>\n",
       "      <td>5.0</td>\n",
       "    </tr>\n",
       "  </tbody>\n",
       "</table>\n",
       "</div>"
      ],
      "text/plain": [
       "         c.label  c.coeff\n",
       "0   Architecture      1.5\n",
       "1  Algorithmique      1.5\n",
       "2      Langage C      2.0\n",
       "3            C++      4.0\n",
       "4            BDR      4.0\n",
       "5       Prog Web      3.5\n",
       "6            UML      5.0"
      ]
     },
     "execution_count": 189,
     "metadata": {},
     "output_type": "execute_result"
    }
   ],
   "source": [
    "neo4j.run(\"\"\"\n",
    "    match(c:Cours{label:'Prog Web'})\n",
    "    set c.coeff=3.5\n",
    "    return c\n",
    "\"\"\")\n",
    "result = neo4j.run(\"\"\"\n",
    "    match(c:Cours)\n",
    "    return c.label, c.coeff\n",
    "\"\"\")\n",
    "df = pd.DataFrame(result.data())\n",
    "df"
   ]
  },
  {
   "cell_type": "markdown",
   "metadata": {},
   "source": [
    "### Supprimer la propriété coefficient des cours 'Architecture' et 'Algorithmique'"
   ]
  },
  {
   "cell_type": "markdown",
   "metadata": {},
   "source": [
    "La première méthode est d'utiliser <b>set node.propriété = null </b>:"
   ]
  },
  {
   "cell_type": "code",
   "execution_count": 190,
   "metadata": {},
   "outputs": [
    {
     "data": {
      "text/html": [
       "<div>\n",
       "<style scoped>\n",
       "    .dataframe tbody tr th:only-of-type {\n",
       "        vertical-align: middle;\n",
       "    }\n",
       "\n",
       "    .dataframe tbody tr th {\n",
       "        vertical-align: top;\n",
       "    }\n",
       "\n",
       "    .dataframe thead th {\n",
       "        text-align: right;\n",
       "    }\n",
       "</style>\n",
       "<table border=\"1\" class=\"dataframe\">\n",
       "  <thead>\n",
       "    <tr style=\"text-align: right;\">\n",
       "      <th></th>\n",
       "      <th>c.label</th>\n",
       "      <th>c.coeff</th>\n",
       "    </tr>\n",
       "  </thead>\n",
       "  <tbody>\n",
       "    <tr>\n",
       "      <th>0</th>\n",
       "      <td>Architecture</td>\n",
       "      <td>NaN</td>\n",
       "    </tr>\n",
       "    <tr>\n",
       "      <th>1</th>\n",
       "      <td>Algorithmique</td>\n",
       "      <td>1.5</td>\n",
       "    </tr>\n",
       "    <tr>\n",
       "      <th>2</th>\n",
       "      <td>Langage C</td>\n",
       "      <td>2.0</td>\n",
       "    </tr>\n",
       "    <tr>\n",
       "      <th>3</th>\n",
       "      <td>C++</td>\n",
       "      <td>4.0</td>\n",
       "    </tr>\n",
       "    <tr>\n",
       "      <th>4</th>\n",
       "      <td>BDR</td>\n",
       "      <td>4.0</td>\n",
       "    </tr>\n",
       "    <tr>\n",
       "      <th>5</th>\n",
       "      <td>Prog Web</td>\n",
       "      <td>3.5</td>\n",
       "    </tr>\n",
       "    <tr>\n",
       "      <th>6</th>\n",
       "      <td>UML</td>\n",
       "      <td>5.0</td>\n",
       "    </tr>\n",
       "  </tbody>\n",
       "</table>\n",
       "</div>"
      ],
      "text/plain": [
       "         c.label  c.coeff\n",
       "0   Architecture      NaN\n",
       "1  Algorithmique      1.5\n",
       "2      Langage C      2.0\n",
       "3            C++      4.0\n",
       "4            BDR      4.0\n",
       "5       Prog Web      3.5\n",
       "6            UML      5.0"
      ]
     },
     "execution_count": 190,
     "metadata": {},
     "output_type": "execute_result"
    }
   ],
   "source": [
    "neo4j.run(\"\"\"\n",
    "    match(c:Cours{label:'Architecture'})\n",
    "    set c.coeff=null\n",
    "    return c\n",
    "\"\"\")\n",
    "result = neo4j.run(\"\"\"\n",
    "    match(c:Cours)\n",
    "    return c.label, c.coeff\n",
    "\"\"\")\n",
    "df = pd.DataFrame(result.data())\n",
    "df"
   ]
  },
  {
   "cell_type": "markdown",
   "metadata": {},
   "source": [
    "La deuxième méthode est d'utiliser <b>remove node.propriété</b>:"
   ]
  },
  {
   "cell_type": "code",
   "execution_count": 191,
   "metadata": {},
   "outputs": [
    {
     "data": {
      "text/html": [
       "<div>\n",
       "<style scoped>\n",
       "    .dataframe tbody tr th:only-of-type {\n",
       "        vertical-align: middle;\n",
       "    }\n",
       "\n",
       "    .dataframe tbody tr th {\n",
       "        vertical-align: top;\n",
       "    }\n",
       "\n",
       "    .dataframe thead th {\n",
       "        text-align: right;\n",
       "    }\n",
       "</style>\n",
       "<table border=\"1\" class=\"dataframe\">\n",
       "  <thead>\n",
       "    <tr style=\"text-align: right;\">\n",
       "      <th></th>\n",
       "      <th>c.label</th>\n",
       "      <th>c.coeff</th>\n",
       "    </tr>\n",
       "  </thead>\n",
       "  <tbody>\n",
       "    <tr>\n",
       "      <th>0</th>\n",
       "      <td>Architecture</td>\n",
       "      <td>NaN</td>\n",
       "    </tr>\n",
       "    <tr>\n",
       "      <th>1</th>\n",
       "      <td>Algorithmique</td>\n",
       "      <td>NaN</td>\n",
       "    </tr>\n",
       "    <tr>\n",
       "      <th>2</th>\n",
       "      <td>Langage C</td>\n",
       "      <td>2.0</td>\n",
       "    </tr>\n",
       "    <tr>\n",
       "      <th>3</th>\n",
       "      <td>C++</td>\n",
       "      <td>4.0</td>\n",
       "    </tr>\n",
       "    <tr>\n",
       "      <th>4</th>\n",
       "      <td>BDR</td>\n",
       "      <td>4.0</td>\n",
       "    </tr>\n",
       "    <tr>\n",
       "      <th>5</th>\n",
       "      <td>Prog Web</td>\n",
       "      <td>3.5</td>\n",
       "    </tr>\n",
       "    <tr>\n",
       "      <th>6</th>\n",
       "      <td>UML</td>\n",
       "      <td>5.0</td>\n",
       "    </tr>\n",
       "  </tbody>\n",
       "</table>\n",
       "</div>"
      ],
      "text/plain": [
       "         c.label  c.coeff\n",
       "0   Architecture      NaN\n",
       "1  Algorithmique      NaN\n",
       "2      Langage C      2.0\n",
       "3            C++      4.0\n",
       "4            BDR      4.0\n",
       "5       Prog Web      3.5\n",
       "6            UML      5.0"
      ]
     },
     "execution_count": 191,
     "metadata": {},
     "output_type": "execute_result"
    }
   ],
   "source": [
    "neo4j.run(\"\"\"\n",
    "    match(c:Cours{label:'Algorithmique'})\n",
    "    remove c.coeff\n",
    "    return c\n",
    "\"\"\")\n",
    "result = neo4j.run(\"\"\"\n",
    "    match(c:Cours)\n",
    "    return c.label, c.coeff\n",
    "\"\"\")\n",
    "df = pd.DataFrame(result.data())\n",
    "df"
   ]
  },
  {
   "cell_type": "markdown",
   "metadata": {},
   "source": [
    "### Ajouter le label 'Dir_Lab' au noeud 'Madani'"
   ]
  },
  {
   "cell_type": "code",
   "execution_count": 193,
   "metadata": {},
   "outputs": [
    {
     "data": {
      "text/html": [
       "<div>\n",
       "<style scoped>\n",
       "    .dataframe tbody tr th:only-of-type {\n",
       "        vertical-align: middle;\n",
       "    }\n",
       "\n",
       "    .dataframe tbody tr th {\n",
       "        vertical-align: top;\n",
       "    }\n",
       "\n",
       "    .dataframe thead th {\n",
       "        text-align: right;\n",
       "    }\n",
       "</style>\n",
       "<table border=\"1\" class=\"dataframe\">\n",
       "  <thead>\n",
       "    <tr style=\"text-align: right;\">\n",
       "      <th></th>\n",
       "      <th>Name</th>\n",
       "      <th>Labels</th>\n",
       "    </tr>\n",
       "  </thead>\n",
       "  <tbody>\n",
       "    <tr>\n",
       "      <th>0</th>\n",
       "      <td>Madani</td>\n",
       "      <td>[Prof, Dir_Lab]</td>\n",
       "    </tr>\n",
       "    <tr>\n",
       "      <th>1</th>\n",
       "      <td>El Kafi</td>\n",
       "      <td>[Prof]</td>\n",
       "    </tr>\n",
       "    <tr>\n",
       "      <th>2</th>\n",
       "      <td>Riffi</td>\n",
       "      <td>[Prof]</td>\n",
       "    </tr>\n",
       "    <tr>\n",
       "      <th>3</th>\n",
       "      <td>Silkan</td>\n",
       "      <td>[Prof]</td>\n",
       "    </tr>\n",
       "  </tbody>\n",
       "</table>\n",
       "</div>"
      ],
      "text/plain": [
       "      Name           Labels\n",
       "0   Madani  [Prof, Dir_Lab]\n",
       "1  El Kafi           [Prof]\n",
       "2    Riffi           [Prof]\n",
       "3   Silkan           [Prof]"
      ]
     },
     "execution_count": 193,
     "metadata": {},
     "output_type": "execute_result"
    }
   ],
   "source": [
    "neo4j.run(\"\"\"\n",
    "    match(c:Prof{name:'Madani'})\n",
    "    set c:Dir_Lab\n",
    "\"\"\")\n",
    "result = neo4j.run(\"\"\"\n",
    "    match(c:Prof)\n",
    "    return c.name as Name, labels(c) as Labels\n",
    "\"\"\")\n",
    "df = pd.DataFrame(result.data())\n",
    "df"
   ]
  }
 ],
 "metadata": {
  "kernelspec": {
   "display_name": "Python 3",
   "language": "python",
   "name": "python3"
  },
  "language_info": {
   "codemirror_mode": {
    "name": "ipython",
    "version": 3
   },
   "file_extension": ".py",
   "mimetype": "text/x-python",
   "name": "python",
   "nbconvert_exporter": "python",
   "pygments_lexer": "ipython3",
   "version": "3.8.8"
  }
 },
 "nbformat": 4,
 "nbformat_minor": 4
}
