{
 "cells": [
  {
   "cell_type": "markdown",
   "id": "9a48e0f1",
   "metadata": {},
   "source": [
    "# Neo4j CQL - Clause Foreach\n",
    "<img src=\"images/Neo4j.png\" width=\"30%\">"
   ]
  },
  {
   "cell_type": "markdown",
   "id": "aeecfb72",
   "metadata": {},
   "source": [
    "<p>La clause FOREACH est utilisée pour mettre à jour les données d'une liste, qu'il s'agisse de composants d'un chemin ou du résultat d'une agrégation.</p>\n",
    "\n",
    "#### Syntaxe\n",
    "<p>Voici la syntaxe de la clause FOREACH.</p>\n",
    "\n",
    "<p>MATCH p = (start node)-[*]->(end node) <br>\n",
    "WHERE start.node = \"node_name\" AND end.node = \"node_name\" <br>\n",
    "FOREACH (n IN nodes(p)| SET n.marked = TRUE) </p>\n",
    "\n",
    "<b>Exemple</b>\n",
    "<p>Avant de continuer avec l'exemple, créez un chemin p dans la base de données Neo4j comme indiqué ci-dessous.</p>\n",
    "\n",
    "<p>CREATE p = (Prof {name:\"A. Alami\"})-[:enseigne]->(Cours{name: \n",
    "   \"Langage Java\"})-[:necessite]->(Cours{name: \"Algorithmique\"}) <br>\n",
    "RETURN p </p>\n",
    "\n",
    "<p>Voici un exemple de requête Cypher qui ajoute une propriété à tous les nœuds le long du chemin à l'aide de la clause FOREACH.</p>\n",
    "\n",
    "<p>MATCH p = (Prof)-[*]->(Cours) <br>\n",
    "   WHERE Prof.name = \"A. Alami\" AND Cours.name = \"Algorithmique\" <br>\n",
    "FOREACH (n IN nodes(p)| SET n.marked = TRUE)</p>\n",
    "\n",
    "#### Vérification\n",
    "<p>Pour vérifier la création du nœud, saisissez et exécutez la requête suivante dans l'invite dollar.</p>\n",
    "\n",
    "<p>MATCH (n) RETURN n </p>\n",
    "<p>Cette requête renvoie tous les nœuds de la base de données.</p>"
   ]
  }
 ],
 "metadata": {
  "kernelspec": {
   "display_name": "Python 3",
   "language": "python",
   "name": "python3"
  },
  "language_info": {
   "codemirror_mode": {
    "name": "ipython",
    "version": 3
   },
   "file_extension": ".py",
   "mimetype": "text/x-python",
   "name": "python",
   "nbconvert_exporter": "python",
   "pygments_lexer": "ipython3",
   "version": "3.8.8"
  }
 },
 "nbformat": 4,
 "nbformat_minor": 5
}
