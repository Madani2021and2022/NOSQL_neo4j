{
 "cells": [
  {
   "cell_type": "markdown",
   "id": "7f1b3636",
   "metadata": {},
   "source": [
    "# Neo4j CQL - OPTIONAL MATCH\n",
    "<img src=\"images/Neo4j.png\" width=\"30%\">"
   ]
  },
  {
   "cell_type": "markdown",
   "id": "d611dbf5",
   "metadata": {},
   "source": [
    "<p>La clause OPTIONAL MATCH est utilisée pour rechercher le modèle qui y est décrit, tout en utilisant des valeurs nulles pour les parties manquantes du modèle.</p>\n",
    "\n",
    "<p>OPTIONAL MATCH est similaire à la clause match, la seule différence étant qu'elle renvoie null en raison des parties manquantes du modèle.</p>\n",
    "\n",
    "#### Syntaxe\n",
    "<p>Voici la syntaxe de la relation OPTIONAL MATCH with.</p>\n",
    "\n",
    "<p>MATCH (node:label {properties. . . . . . . . . . . . . .}) <br>\n",
    "OPTIONAL MATCH (node)-->(x) <br>\n",
    "RETURN x\n",
    "    </p>\n",
    "\n",
    "<b>Exemple</b>\n",
    "Voici un exemple de requête Cypher qui tente de récupérer les relations à partir du nœud King.\n",
    "\n",
    "MATCH (a:Emp {ename: \"King\"}) \n",
    "OPTIONAL MATCH (a)-->(x) \n",
    "RETURN x "
   ]
  }
 ],
 "metadata": {
  "kernelspec": {
   "display_name": "Python 3",
   "language": "python",
   "name": "python3"
  },
  "language_info": {
   "codemirror_mode": {
    "name": "ipython",
    "version": 3
   },
   "file_extension": ".py",
   "mimetype": "text/x-python",
   "name": "python",
   "nbconvert_exporter": "python",
   "pygments_lexer": "ipython3",
   "version": "3.8.8"
  }
 },
 "nbformat": 4,
 "nbformat_minor": 5
}
