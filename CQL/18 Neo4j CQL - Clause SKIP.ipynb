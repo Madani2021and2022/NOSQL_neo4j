{
 "cells": [
  {
   "cell_type": "markdown",
   "id": "d40595c4",
   "metadata": {},
   "source": [
    "# Neo4j CQL - Clause SKIP\n",
    "<img src=\"images/Neo4j.png\" width=\"30%\">"
   ]
  },
  {
   "cell_type": "markdown",
   "id": "dbb263a2",
   "metadata": {},
   "source": [
    "<p>La clause SKIP est utilisée pour définir à partir de quelle ligne commencer en incluant les lignes dans la sortie.</p>\n",
    "\n",
    "<b>Exemple</b>\n",
    "\n",
    "<p>Voici un exemple de requête Cypher qui renvoie tous les nœuds de la base de données en sautant les 3 premiers nœuds.</p>\n",
    "\n",
    "<p>MATCH (emp:Emp)  <br>\n",
    "RETURN emp.ename, emp.sal<br>\n",
    "ORDER BY emp.sal<br>\n",
    "SKIP 3 </p>"
   ]
  },
  {
   "cell_type": "markdown",
   "id": "6aa1a954",
   "metadata": {},
   "source": [
    "## Utilisation de SKIP avec une expression\n",
    "<p>Vous pouvez ignorer les enregistrements d'un résultat à l'aide d'une expression.</p>\n",
    "\n",
    "<b>Exemple</b>\n",
    "<p>Voici un exemple de requête Cypher qui utilise la clause SKIP avec une expression.</p>\n",
    "\n",
    "<p>MATCH (emp:Emp)  <br>\n",
    "RETURN emp.ename, emp.sal<br>\n",
    "ORDER BY emp.sal<br>\n",
    "SKIP toInteger (2*rand())+ 1 </p>"
   ]
  }
 ],
 "metadata": {
  "kernelspec": {
   "display_name": "Python 3",
   "language": "python",
   "name": "python3"
  },
  "language_info": {
   "codemirror_mode": {
    "name": "ipython",
    "version": 3
   },
   "file_extension": ".py",
   "mimetype": "text/x-python",
   "name": "python",
   "nbconvert_exporter": "python",
   "pygments_lexer": "ipython3",
   "version": "3.8.8"
  }
 },
 "nbformat": 4,
 "nbformat_minor": 5
}
