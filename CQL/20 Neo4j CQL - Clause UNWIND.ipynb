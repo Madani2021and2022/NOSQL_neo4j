{
 "cells": [
  {
   "cell_type": "markdown",
   "id": "407e8a03",
   "metadata": {},
   "source": [
    "# Neo4j CQL - Clause UNWIND"
   ]
  },
  {
   "cell_type": "markdown",
   "id": "bdc6a847",
   "metadata": {},
   "source": [
    "<p>La clause unwind est utilisée pour dérouler une liste en une séquence de lignes.</p>\n",
    "\n",
    "<b>Exemple</b>\n",
    "<p>Voici un exemple de requête Cypher qui déroule une liste.</p>\n",
    "\n",
    "UNWIND ['a', 'b', 'c', 'd'] AS x \n",
    "RETURN x "
   ]
  }
 ],
 "metadata": {
  "kernelspec": {
   "display_name": "Python 3",
   "language": "python",
   "name": "python3"
  },
  "language_info": {
   "codemirror_mode": {
    "name": "ipython",
    "version": 3
   },
   "file_extension": ".py",
   "mimetype": "text/x-python",
   "name": "python",
   "nbconvert_exporter": "python",
   "pygments_lexer": "ipython3",
   "version": "3.8.8"
  }
 },
 "nbformat": 4,
 "nbformat_minor": 5
}
