{
 "cells": [
  {
   "cell_type": "markdown",
   "id": "903db3d8",
   "metadata": {},
   "source": [
    "# Neo4j CQL - Création de relations\n",
    "<img src=\"images/Neo4j.png\" width=\"30%\">"
   ]
  },
  {
   "cell_type": "markdown",
   "id": "6c2b7743",
   "metadata": {},
   "source": [
    "<p>Dans Noe4j, une relation est un élément à l'aide duquel on connecte deux nœuds d'un graphe. Ces relations ont une direction, un type et des modèles de forme de données. Ce chapitre vous apprend à :</p>\n",
    "<ul>\n",
    "    <li>Créer des relations</li>\n",
    "    <li>Créer une relation entre les nœuds existants</li>\n",
    "    <li>Créer une relation avec l'étiquette et les propriétés</li>\n",
    "</ul>"
   ]
  },
  {
   "cell_type": "markdown",
   "id": "ba05c293",
   "metadata": {},
   "source": [
    "## Créer des relations\n",
    "<p>Nous pouvons créer une relation en utilisant la clause CREATE. Nous spécifierons la relation entre les accolades \"[ ]\" en fonction de la direction de la relation placée entre le trait d'union \" - \" et la flèche \" → \" comme indiqué dans la syntaxe suivante.</p>\n",
    "\n",
    "#### Syntaxe\n",
    "<p>Voici la syntaxe pour créer une relation à l'aide de la clause CREATE.</p>\n",
    "\n",
    "<p>CREATE (node1)-[:RelationshipType]->(node2) </p>\n",
    "\n",
    "<b>Exemple</b>\n",
    "<p>Tout d'abord, créez deux nœuds 'madani' et 'ville' dans la base de données, comme indiqué ci-dessous.</p>\n",
    "\n",
    "<p>CREATE (madani:Prof{name: \"Abdellah MADANI\", recrutement: 1994}) <br>\n",
    "    CREATE (ville:Ville {name: \"El Jadida\"})</p>\n",
    "    \n",
    "Maintenant, créez une relation nommée <i>habite</i> entre ces deux nœuds comme :\n",
    "\n",
    "<p>CREATE (madani)-[r:habite]->(ville) </p>\n",
    "<p>Enfin, renvoyez les deux nœuds pour voir la relation créée.</p>\n",
    "\n",
    "<p>RETURN madani, ville</p>"
   ]
  },
  {
   "cell_type": "markdown",
   "id": "d129f3c1",
   "metadata": {},
   "source": [
    "## Création d'une relation entre les nœuds existants\n",
    "\n",
    "<p>Vous pouvez également créer une relation entre les nœuds existants à l'aide de la clause MATCH.</p>\n",
    "\n",
    "#### Syntaxe\n",
    "<p>Voici la syntaxe pour créer une relation à l'aide de la clause MATCH.</p>\n",
    "<p>\n",
    "MATCH (a:LabeofNode1), (b:LabeofNode2) <br>\n",
    "   WHERE a.name = \"nameofnode1\" AND b.name = \" nameofnode2\" <br>\n",
    "CREATE (a)-[: Relation]->(b) <br>\n",
    "RETURN a,b \n",
    "</p>\n",
    "\n",
    "<b>Exemple</b>\n",
    "<p>Voici un exemple de requête Cypher qui crée une relation à l'aide de la clause match.</p>\n",
    "\n",
    "<p>\n",
    "    MATCH (a:Prof), (b:Ville) WHERE a.name = \"Abdellah MADANI\" AND b.name = \"El Jadida\"<br> \n",
    "CREATE (a)-[r: habite]->(b) <br>\n",
    "RETURN a,b \n",
    " </p>"
   ]
  },
  {
   "cell_type": "markdown",
   "id": "094a7bdb",
   "metadata": {},
   "source": [
    "## Création d'une relation avec l'étiquette et les propriétés\n",
    "<p>Vous pouvez créer une relation avec une étiquette et des propriétés à l'aide de la clause CREATE.</p>\n",
    "\n",
    "#### Syntaxe\n",
    "<p>Voici la syntaxe pour créer une relation avec une étiquette et des propriétés à l'aide de la clause CREATE.</p>\n",
    "\n",
    "<p>CREATE (node1)-[label:Rel_Type {key1:value1, key2:value2, . . . n}]-> (node2) </p>\n",
    "\n",
    "<b>Exemple</b>\n",
    "<p>Voici un exemple de requête Cypher qui crée une relation avec l'étiquette et les propriétés.</p>\n",
    "\n",
    "<p>\n",
    "    MATCH (a:Prof), (b:Ville) WHERE a.name = \"Abdellah MADANI\" AND b.name = \"El Jadida\" <br>\n",
    "CREATE (a)-[r:habite {depuis:1995}]->(b)  <br>\n",
    "RETURN a,b \n",
    "    </p>"
   ]
  },
  {
   "cell_type": "markdown",
   "id": "c029a165",
   "metadata": {},
   "source": [
    "## Création d'un chemin complet\n",
    "<p>Dans Neo4j, un chemin est formé en utilisant une succession de relations. Un chemin peut être créé à l'aide de la clause create.</p>\n",
    "\n",
    "#### Syntaxe\n",
    "<p>Voici la syntaxe pour créer un chemin dans Neo4j en utilisant la clause CREATE.</p>\n",
    "\n",
    "<p>\n",
    "CREATE p = (Node1 {properties})-[:Relationship_Type]->\n",
    "   (Node2 {properties})[:Relationship_Type]->(Node3 {properties}) \n",
    "RETURN p\n",
    "</p>\n",
    "\n",
    "<b>Exemple</b>\n",
    "<p>Voici un exemple de requête Cypher qui crée un chemin complet.</p>\n",
    "\n",
    "<p>\n",
    "    MATCH (a:Prof), (b:Ville) WHERE a.name = \"Abdellah MADANI\" AND b.name = \"El Jadida\" <br>\n",
    "CREATE path = (a)-[r:habite {depuis:1995}]->(b)  <br>\n",
    "RETURN path\n",
    "    </p>"
   ]
  }
 ],
 "metadata": {
  "kernelspec": {
   "display_name": "Python 3",
   "language": "python",
   "name": "python3"
  },
  "language_info": {
   "codemirror_mode": {
    "name": "ipython",
    "version": 3
   },
   "file_extension": ".py",
   "mimetype": "text/x-python",
   "name": "python",
   "nbconvert_exporter": "python",
   "pygments_lexer": "ipython3",
   "version": "3.8.8"
  }
 },
 "nbformat": 4,
 "nbformat_minor": 5
}
