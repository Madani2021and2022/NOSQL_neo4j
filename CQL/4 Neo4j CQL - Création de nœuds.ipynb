{
 "cells": [
  {
   "cell_type": "markdown",
   "id": "16ed8b71",
   "metadata": {},
   "source": [
    "# Neo4j CQL - Création de nœuds\n",
    "<img src=\"images/Neo4j.png\" width=\"30%\">"
   ]
  },
  {
   "cell_type": "markdown",
   "id": "32a396cf",
   "metadata": {},
   "source": [
    "<p>Comme indiqué précédemment, un nœud est une donnée/un enregistrement dans une base de données de graphes. Vous pouvez créer un nœud dans Neo4j en utilisant la clause CREATE . Ce chapitre vous apprend à :</p>\n",
    "<ul>\n",
    "    <li>Créer un nœud unique</li>\n",
    "    <li>Créer plusieurs nœuds</li>\n",
    "    <li>Créer un nœud avec une étiquette</li>\n",
    "    <li>Créer un nœud avec plusieurs étiquettes</li>\n",
    "    <li>Créer un nœud avec des propriétés</li>\n",
    "    <li>Renvoyer le nœud créé</li>\n",
    "</ul>"
   ]
  },
  {
   "cell_type": "markdown",
   "id": "2b66cfcf",
   "metadata": {},
   "source": [
    "## Création d'un nœud unique\n",
    "\n",
    "<p>Vous pouvez créer un nœud dans Neo4j en spécifiant simplement le nom du nœud qui doit être créé avec la clause CREATE.</p>\n",
    "\n",
    "#### Syntaxe\n",
    "\n",
    "<p>Voici la syntaxe de création d'un nœud à l'aide de Cypher Query Language.</p>\n",
    "\n",
    "<p><center>CREATE (node_name); </center></p>\n",
    "\n",
    "\n",
    "<b>Remarque : </b>Le point-virgule (;) est facultatif.\n",
    "\n",
    "<b>Exemple</b>\n",
    "<p>Voici un exemple de requête Cypher qui crée un nœud dans Neo4j.</p>\n",
    "\n",
    "<p><center><i>CREATE (Sample) </i></center></p>"
   ]
  },
  {
   "cell_type": "markdown",
   "id": "78357708",
   "metadata": {},
   "source": [
    "#### Vérification\n",
    "<p>Pour vérifier la création du nœud, exécutez la requête suivante dans l'invite de commande neo4 (dollar).</p>\n",
    "\n",
    "<p><center><i>MATCH (n) RETURN n </i></center></p>\n",
    "\n",
    "<p>Cette requête renvoie tous les nœuds de la base de données (nous détaillerons cette requête dans les prochains chapitres).</p>"
   ]
  },
  {
   "cell_type": "markdown",
   "id": "a51389fe",
   "metadata": {},
   "source": [
    "## Création de plusieurs nœuds\n",
    "\n",
    "<p>La clause create de Neo4j CQL est également utilisée pour créer plusieurs nœuds en même temps. Pour cela, vous devez passer les noms des nœuds à créer, séparés par une virgule.</p>\n",
    "\n",
    "#### Syntaxe\n",
    "\n",
    "<p>Voici la syntaxe pour créer plusieurs nœuds à l'aide de la clause CREATE.</p>\n",
    "\n",
    "<p><center>CREATE (node1),(node2)</center></p>\n",
    "\n",
    "<b>Exemple</b>\n",
    "<p>Voici un exemple de requête Cypher qui crée plusieurs nœuds dans Neo4j.</p>\n",
    "\n",
    "<p><center><i>CREATE (sample1),(sample2) </i></center></p>"
   ]
  },
  {
   "cell_type": "markdown",
   "id": "ffcd4a0e",
   "metadata": {},
   "source": [
    "#### Vérification\n",
    "<p>Pour vérifier la création du type de nœud, exécutez la requête suivante dans l'invite dollar.</p>\n",
    "\n",
    "<p><center><i>MATCH (n) RETURN n </i></center></p>\n"
   ]
  },
  {
   "cell_type": "markdown",
   "id": "f6fc22d4",
   "metadata": {},
   "source": [
    "## Création d'un nœud avec une étiquette\n",
    "\n",
    "<p>Une étiquette dans Neo4j est utilisée pour regrouper (classer) les nœuds à l'aide d'étiquettes. Vous pouvez créer une étiquette pour un nœud dans Neo4j en utilisant la clause CREATE.</p>\n",
    "\n",
    "#### Syntaxe\n",
    "<p>Voici la syntaxe pour créer un nœud avec une étiquette à l'aide de Cypher Query Language.</p>\n",
    "\n",
    "<p><center>CREATE (node:label) </center></p>\n",
    "\n",
    "<b>Exemple</b>\n",
    "<p>Voici un exemple de requête Cypher qui crée un nœud avec une étiquette.</p>\n",
    "\n",
    "<p><center><i>CREATE (Madani:Prof)</i></center></p> "
   ]
  },
  {
   "cell_type": "markdown",
   "id": "aa707925",
   "metadata": {},
   "source": [
    "#### Vérification\n",
    "<p>Pour vérifier la création du type de nœud, exécutez la requête suivante dans l'invite dollar.</p>\n",
    "\n",
    "<p><center><i>MATCH (n) RETURN n </i></center></p>"
   ]
  },
  {
   "cell_type": "markdown",
   "id": "2fa560d3",
   "metadata": {},
   "source": [
    "## Création d'un nœud avec plusieurs étiquettes\n",
    "<p>Vous pouvez également créer plusieurs étiquettes pour un seul nœud. Vous devez spécifier les étiquettes du nœud en les séparant par deux-points « : ».</p>\n",
    "\n",
    "#### Syntaxe\n",
    "<p>Voici la syntaxe pour créer un nœud avec plusieurs étiquettes.</p>\n",
    "\n",
    "<p><center>CREATE (node:label1:label2:. . . . labeln) </center></p>\n",
    "\n",
    "<b>Exemple</b>\n",
    "<p>Voici un exemple de requête Cypher qui crée un nœud avec plusieurs étiquettes dans Neo4j.</p>\n",
    "\n",
    "<p><center><i>CREATE (Madani:Personne:Prof)</i></center></p>"
   ]
  },
  {
   "cell_type": "markdown",
   "id": "c0b50e06",
   "metadata": {},
   "source": [
    "#### Vérification\n",
    "<p>Pour vérifier la création du type de nœud, exécutez la requête suivante dans l'invite dollar.</p>\n",
    "\n",
    "<p><center><i>MATCH (n) RETURN n </i></center></p>"
   ]
  },
  {
   "cell_type": "markdown",
   "id": "b67d42f7",
   "metadata": {},
   "source": [
    "## Créer un nœud avec des propriétés\n",
    "<p>Les propriétés sont les paires clé-valeur à l'aide desquelles un nœud stocke des données. Vous pouvez créer un nœud avec des propriétés à l'aide de la clause CREATE. Vous devez spécifier ces propriétés séparées par des virgules entre les accolades florales \"{ }\".</p>\n",
    "\n",
    "#### Syntaxe\n",
    "<p>Voici la syntaxe pour créer un nœud avec des propriétés.</p>\n",
    "\n",
    "<p><center>CREATE (node:label { key1: value, key2: value, . . . . . . . . .  })</center></p> \n",
    "\n",
    "<b>Exemple</b>\n",
    "<p>Voici un exemple de requête Cypher qui crée un nœud avec des propriétés.</p>\n",
    "\n",
    "<p><center><i>CREATE (Madani:Prof{name: \"Abdellah MADANI\", recrutement: 1994}) </i></center></p>\n",
    "\n",
    "#### Vérification\n",
    "<p>Pour vérifier la création du type de nœud, exécutez la requête suivante dans l'invite dollar.</p>\n",
    "\n",
    "<p><center><i>MATCH (n) RETURN n </i></center></p>"
   ]
  },
  {
   "cell_type": "markdown",
   "id": "5376a144",
   "metadata": {},
   "source": [
    "## Renvoyer le nœud créé\n",
    "<p>Tout au long du chapitre, nous avons utilisé la requête MATCH (n) RETURN n pour afficher les nœuds créés. Cette requête renvoie tous les nœuds existants dans la base de données.</p>\n",
    "\n",
    "<p>Au lieu de cela, nous pouvons utiliser la clause RETURN avec CREATE pour afficher le nœud nouvellement créé.</p>\n",
    "\n",
    "#### Syntaxe\n",
    "<p>Voici la syntaxe pour renvoyer un nœud dans Neo4j.</p>\n",
    "\n",
    "<p><center>CREATE (Node:Label{properties. . . . }) RETURN Node </center></p>\n",
    "\n",
    "<b>Exemple</b>\n",
    "<p>Voici un exemple de requête Cypher qui crée un nœud avec des propriétés et le renvoie.</p>\n",
    "\n",
    "<p><center><i>CREATE (Madani:Prof{name: \"Abdellah MADANI\", recrutement: 1994}) return Madani </i></center></p>\n"
   ]
  }
 ],
 "metadata": {
  "kernelspec": {
   "display_name": "Python 3",
   "language": "python",
   "name": "python3"
  },
  "language_info": {
   "codemirror_mode": {
    "name": "ipython",
    "version": 3
   },
   "file_extension": ".py",
   "mimetype": "text/x-python",
   "name": "python",
   "nbconvert_exporter": "python",
   "pygments_lexer": "ipython3",
   "version": "3.8.8"
  }
 },
 "nbformat": 4,
 "nbformat_minor": 5
}
