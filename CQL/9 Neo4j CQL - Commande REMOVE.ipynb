{
 "cells": [
  {
   "cell_type": "markdown",
   "id": "9d3f3eef",
   "metadata": {},
   "source": [
    "# Neo4j CQL - Commande REMOVE\n",
    "<img src=\"images/Neo4j.png\" width=\"30%\">"
   ]
  },
  {
   "cell_type": "markdown",
   "id": "3f87aa5e",
   "metadata": {},
   "source": [
    "<p>La clause REMOVE est utilisée pour supprimer les propriétés et les étiquettes des éléments de graphe (nœuds ou relations).</p>\n",
    "\n",
    "<p>La principale différence entre les commandes Neo4j CQL DELETE et REMOVE est :</p>\n",
    "<ul>\n",
    "    <li>L'opération DELETE est utilisée pour supprimer les nœuds et les relations associées.</li>\n",
    "    <li>L'opération REMOVE est utilisée pour supprimer des étiquettes et des propriétés.</li>\n",
    "</ul>"
   ]
  },
  {
   "cell_type": "markdown",
   "id": "29c1c0ca",
   "metadata": {},
   "source": [
    "## Suppression d'une propriété\n",
    "<p>Vous pouvez supprimer une propriété d'un nœud à l'aide de MATCH avec la clause REMOVE.</p>\n",
    "\n",
    "#### Syntaxe\n",
    "<p>Voici la syntaxe pour supprimer une propriété d'un nœud à l'aide de la clause REMOVE.</p>\n",
    "\n",
    "<p>MATCH (node:label{properties . . . . . . . }) <br>\n",
    "REMOVE node.property <br>\n",
    "RETURN node \n",
    "    </p>\n",
    "\n",
    "<b>Exemple</b>\n",
    "<p>Avant de continuer avec l'exemple, créez un nœud nommé java comme indiqué ci-dessous.</p>\n",
    "\n",
    "<p>CREATE (java:Cours {name: \"Langage Java\", VH: 45, coeff: 3})</p>\n",
    "\n",
    "<p>Voici un exemple de requête Cypher pour supprimer le nœud créé ci-dessus à l'aide de la clause REMOVE.</p>\n",
    "\n",
    "<p>MATCH (java:Cours {name: \"Langage Java\", VH: 45, coeff: 3}) <br>\n",
    "REMOVE java.coeff <br>\n",
    "RETURN java </p>"
   ]
  },
  {
   "cell_type": "markdown",
   "id": "33fe164d",
   "metadata": {},
   "source": [
    "## Suppression d'une étiquette d'un nœud\n",
    "<p>Semblable à la propriété, vous pouvez également supprimer une étiquette d'un nœud existant à l'aide de la clause remove.</p>\n",
    "\n",
    "#### Syntaxe\n",
    "<p>Voici la syntaxe pour supprimer une étiquette d'un nœud.</p>\n",
    "\n",
    "<p>MATCH (node:label {properties . . . . . . . . . . . }) <br>\n",
    "REMOVE node:label <br>\n",
    "RETURN node </p>\n",
    "\n",
    "<b>Exemple</b>\n",
    "<p>Voici un exemple de requête Cypher pour supprimer une étiquette d'un nœud existant à l'aide de la clause remove.</p>\n",
    "\n",
    "<p>MATCH (java:Cours {name: \"Langage Java\", VH: 45, coeff: 3}) <br>\n",
    "REMOVE java:Cours <br>\n",
    "RETURN java </p>"
   ]
  },
  {
   "cell_type": "markdown",
   "id": "6630846e",
   "metadata": {},
   "source": [
    "## Suppression de plusieurs étiquettes\n",
    "<p>Vous pouvez également supprimer plusieurs étiquettes d'un nœud existant.</p>\n",
    "\n",
    "#### Syntaxe\n",
    "<p>Voici la syntaxe pour supprimer plusieurs étiquettes d'un nœud.</p>\n",
    "\n",
    "<p>MATCH (node:label1:label2 {properties . . . . . . . . }) <br>\n",
    "REMOVE node:label1:label2 <br>\n",
    "RETURN node</p>\n",
    "\n",
    "<b>Exemple</b>\n",
    "\n",
    "<p>Avant de continuer avec l'exemple, créez un nœud alami comme indiqué ci-dessous.</p>\n",
    "\n",
    "<p>CREATE (alami:Prof:Person {name: \"A. Alami\", city: \"Casablanca\"})</p> \n",
    "\n",
    "<p>Voici un exemple de requête Cypher pour supprimer plusieurs étiquettes d'un nœud.</p>\n",
    "\n",
    "<p>MATCH (alami:Prof:Person {name: \"A. Alami\", city: \"Casablanca\"}) <br>\n",
    "REMOVE alami:Prof:Person <br>\n",
    "RETURN alami </p>"
   ]
  }
 ],
 "metadata": {
  "kernelspec": {
   "display_name": "Python 3",
   "language": "python",
   "name": "python3"
  },
  "language_info": {
   "codemirror_mode": {
    "name": "ipython",
    "version": 3
   },
   "file_extension": ".py",
   "mimetype": "text/x-python",
   "name": "python",
   "nbconvert_exporter": "python",
   "pygments_lexer": "ipython3",
   "version": "3.8.8"
  }
 },
 "nbformat": 4,
 "nbformat_minor": 5
}
