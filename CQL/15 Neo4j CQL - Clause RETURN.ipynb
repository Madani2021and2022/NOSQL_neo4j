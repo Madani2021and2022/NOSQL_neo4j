{
 "cells": [
  {
   "cell_type": "markdown",
   "id": "7e540011",
   "metadata": {},
   "source": [
    "# Neo4j CQL - Clause RETURN\n",
    "<img src=\"images/Neo4j.png\" width=\"30%\">"
   ]
  },
  {
   "cell_type": "markdown",
   "id": "58dbf9ae",
   "metadata": {},
   "source": [
    "<p>La clause RETURN est utilisée pour renvoyer des nœuds, des relations et des propriétés dans Neo4j. Dans ce chapitre, nous allons apprendre à :</p>\n",
    "<ul>\n",
    "    <li>Nœuds de retour</li>\n",
    "    <li>Renvoyer plusieurs nœuds</li>\n",
    "    <li>Relations de retour</li>\n",
    "    <li>Propriétés de retour</li>\n",
    "    <li>Renvoyer tous les éléments</li>\n",
    "    <li>Renvoie une variable avec un alias de colonne</li>\n",
    "</ul>\n",
    "\n",
    "## Nœuds de retour\n",
    "<p>Vous pouvez renvoyer un nœud à l'aide de la clause RETURN.</p>\n",
    "\n",
    "#### Syntaxe\n",
    "<p>Voici une syntaxe pour renvoyer des nœuds à l'aide de la clause RETURN.</p>\n",
    "\n",
    "<p>Create (node:label {properties}) <br>\n",
    "RETURN node</p>\n",
    "\n",
    "<b>Exemple</b>\n",
    "\n",
    "<p>Voici un exemple de requête Cypher qui crée un nœud nommé 'zidani' et le renvoie.</p>\n",
    "\n",
    "<p>Create (zidani:Person {name: \"Habiba Zidani\", city:'Ifrane'}) <br>\n",
    "RETURN zidani</p>"
   ]
  },
  {
   "cell_type": "markdown",
   "id": "a276b252",
   "metadata": {},
   "source": [
    "## Renvoyer plusieurs nœuds\n",
    "<p>Vous pouvez également renvoyer plusieurs nœuds à l'aide de la clause return.</p>\n",
    "<b>Exemple</b>\n",
    "<p>Create (zidani:Person {name: \"Habiba Zidani\", city:'Ifrane'}) <br>\n",
    "    Create (madani:Person {name: \"Abdellah Madani\", city:'Azrou'}) <br>\n",
    "RETURN zidani, madani</p>"
   ]
  },
  {
   "cell_type": "markdown",
   "id": "cbf9bd5f",
   "metadata": {},
   "source": [
    "## Renvoyer plusieurs relations\n",
    "<p>Vous pouvez également renvoyer des relations à l'aide de la clause Return.</p>\n",
    "\n",
    "#### Syntaxe\n",
    "<p>Voici la syntaxe pour renvoyer des relations à l'aide de la clause RETURN.</p>\n",
    "\n",
    "<p>CREATE (node1)-[Relationship:Relationship_type]->(node2) <br>\n",
    "RETURN Relationship </p>\n",
    "\n",
    "<b>Exemple</b>\n",
    "\n",
    "<p>Voici un exemple de requête Cypher qui crée deux relations et les renvoie.</p>\n",
    "\n",
    "<p>CREATE (p:Prof{name:'Madani'})<br>\n",
    "CREATE (c:Cours{label:'Neo4j'})<br>\n",
    "CREATE (p)-[r1:Enseigne{since:2020}]->(c)<br>\n",
    "CREATE (p)-[r2:Responsable{since:2020}]->(c)<br>\n",
    "RETURN r1, r2</p>"
   ]
  },
  {
   "cell_type": "markdown",
   "id": "33d6d0bf",
   "metadata": {},
   "source": [
    "## Returner des propriétés\n",
    "<p>Vous pouvez également renvoyer des propriétés à l'aide de la clause RETURN.</p>\n",
    "\n",
    "#### Syntaxe\n",
    "<p>Voici une syntaxe pour renvoyer des propriétés à l'aide de la clause RETURN.</p>\n",
    "\n",
    "<p>Match (node:label {properties . . . . . . . . . . }) <br>\n",
    "Return node.property </p>\n",
    "\n",
    "<b>Exemple</b>\n",
    "<p>Voici un exemple de requête Cypher pour renvoyer les propriétés d'un nœud.</p>\n",
    "\n",
    "<p>Ici, on renvoie les noms et salaires de tous les employés</p>\n",
    "\n",
    "<p>Match (emp:Emp) <br>\n",
    "Return emp.ename, emp.sal</p>\n",
    "\n",
    "<p>Dans cet exemple, on retourne les noms et salaires des employés du département 'Sales'</p>\n",
    "\n",
    "<p>match(emp:Emp)-[:Works_for]->(:Dept{dname:'Sales'}) \n",
    "    <br>return emp.ename, emp.sal</p>"
   ]
  },
  {
   "cell_type": "markdown",
   "id": "887023ec",
   "metadata": {},
   "source": [
    "## Renvoyer une variable avec un alias de colonne\n",
    "<p>Vous pouvez renvoyer une colonne particulière avec un alias en utilisant la clause RETURN dans Neo4j.</p>\n",
    "\n",
    "<b>Exemple</b>\n",
    "<p>Voici un exemple de requête Cypher qui renvoie les noms et salaires des employés du département 'Sales'.</p>\n",
    "\n",
    "<p>Match (emp:Emp) <br>\n",
    "Where (emp)-[:Works_for]->(:Dept{dname:'Sales'})<br>\n",
    "Return emp.ename as Nom, emp.sal as Salaire</p>"
   ]
  }
 ],
 "metadata": {
  "kernelspec": {
   "display_name": "Python 3",
   "language": "python",
   "name": "python3"
  },
  "language_info": {
   "codemirror_mode": {
    "name": "ipython",
    "version": 3
   },
   "file_extension": ".py",
   "mimetype": "text/x-python",
   "name": "python",
   "nbconvert_exporter": "python",
   "pygments_lexer": "ipython3",
   "version": "3.8.8"
  }
 },
 "nbformat": 4,
 "nbformat_minor": 5
}
