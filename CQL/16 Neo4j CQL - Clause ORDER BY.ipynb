{
 "cells": [
  {
   "cell_type": "markdown",
   "id": "26f19104",
   "metadata": {},
   "source": [
    "# Neo4j CQL - Clause ORDER BY\n",
    "<img src=\"images/Neo4j.png\" width=\"30%\">"
   ]
  },
  {
   "cell_type": "markdown",
   "id": "ee07d350",
   "metadata": {},
   "source": [
    "<p>Vous pouvez organiser (trier) les données du résultat dans un ordre croissant ou décroissant à l'aide de la clause ORDER BY.</p>\n",
    "\n",
    "#### Syntaxe\n",
    "<p>Voici la syntaxe de la clause ORDER BY.</p>\n",
    "\n",
    "<p>MATCH (n)  \n",
    "RETURN n.property1, n.property2 . . . . . . . . <br> \n",
    "ORDER BY n.property</p>\n",
    "\n",
    "<b>Exemple</b>\n",
    "<p>Les numéros, noms et salaires des employés par salaires croissants</p>\n",
    "\n",
    "<p>match(emp:Emp)<br>\n",
    "return emp.empno, emp.ename, emp.sal<br>\n",
    "order by emp.sal</p>"
   ]
  },
  {
   "cell_type": "markdown",
   "id": "23f030a5",
   "metadata": {},
   "source": [
    "## Trier les nœuds par plusieurs propriétés\n",
    "<p>Vous pouvez trier les nœuds en fonction de plusieurs propriétés à l'aide de la clause ORDEYBY.</p>\n",
    "\n",
    "#### Syntaxe\n",
    "<p>Voici la syntaxe pour organiser les nœuds selon plusieurs propriétés à l'aide de la clause ORDERBY.</p>\n",
    "\n",
    "<p>MATCH (n) <br>\n",
    "RETURN n <br>\n",
    "ORDER BY n.age, n.name </p>\n",
    "\n",
    "<b>Exemple</b>\n",
    "<p>Voici un exemple de requête Cypher qui trie les employés par salaires croissants, puis par noms décroissants.</p>\n",
    "\n",
    "<p>match(emp:Emp)<br>\n",
    "return emp.empno, emp.ename, emp.sal<br>\n",
    "order by emp.sal, emp.ename desc</p>"
   ]
  }
 ],
 "metadata": {
  "kernelspec": {
   "display_name": "Python 3",
   "language": "python",
   "name": "python3"
  },
  "language_info": {
   "codemirror_mode": {
    "name": "ipython",
    "version": 3
   },
   "file_extension": ".py",
   "mimetype": "text/x-python",
   "name": "python",
   "nbconvert_exporter": "python",
   "pygments_lexer": "ipython3",
   "version": "3.8.8"
  }
 },
 "nbformat": 4,
 "nbformat_minor": 5
}
