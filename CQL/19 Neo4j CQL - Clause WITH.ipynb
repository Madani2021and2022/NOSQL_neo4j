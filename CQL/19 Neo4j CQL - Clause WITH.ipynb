{
 "cells": [
  {
   "cell_type": "markdown",
   "id": "64aa0221",
   "metadata": {},
   "source": [
    "# Neo4j CQL - Clause WITH\n",
    "<img src=\"images/Neo4j.png\" width=\"30%\">"
   ]
  },
  {
   "cell_type": "markdown",
   "id": "c1d50a19",
   "metadata": {},
   "source": [
    "<p>Vous pouvez enchaîner les arts de la requête à l'aide de la clause WITH.</p>\n",
    "\n",
    "#### Syntaxe\n",
    "<p>Voici la syntaxe de la clause WITH.</p>\n",
    "\n",
    "<p>MATCH (n) <br>\n",
    "WITH n <br>\n",
    "ORDER BY n.property <br>\n",
    "RETURN collect(n.property) </p>\n",
    "    \n",
    "<b>Exemple</b>\n",
    "<p>Voici un exemple de requête Cypher qui illustre l'utilisation de la clause WITH.</p>\n",
    "\n",
    "<p>MATCH (n:Emp) <br>\n",
    "WITH n <br>\n",
    "ORDER BY n.ename DESC <br>\n",
    "LIMIT 3 <br>\n",
    "RETURN collect(n.ename) </p>"
   ]
  }
 ],
 "metadata": {
  "kernelspec": {
   "display_name": "Python 3",
   "language": "python",
   "name": "python3"
  },
  "language_info": {
   "codemirror_mode": {
    "name": "ipython",
    "version": 3
   },
   "file_extension": ".py",
   "mimetype": "text/x-python",
   "name": "python",
   "nbconvert_exporter": "python",
   "pygments_lexer": "ipython3",
   "version": "3.8.8"
  }
 },
 "nbformat": 4,
 "nbformat_minor": 5
}
