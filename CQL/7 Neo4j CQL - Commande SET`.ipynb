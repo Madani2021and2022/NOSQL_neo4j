{
 "cells": [
  {
   "cell_type": "markdown",
   "id": "af874f56",
   "metadata": {},
   "source": [
    "# Neo4j CQL - Commande SET\n",
    "<img src=\"images/Neo4j.png\" width=\"30%\">"
   ]
  },
  {
   "cell_type": "markdown",
   "id": "de65a0d6",
   "metadata": {},
   "source": [
    "<p>À l'aide de la clause Set, vous pouvez ajouter de nouvelles propriétés à un nœud existant ou à une relation existante, ainsi qu'ajouter ou mettre à jour des valeurs de propriétés existantes.</p>\n",
    "\n",
    "<p>Dans ce chapitre, nous allons voir comment :</p>\n",
    "<ul>\n",
    "    <li>Définir une propriété</li>\n",
    "    <li>Supprimer une propriété</li>\n",
    "    <li>Définir plusieurs propriétés</li>\n",
    "    <li>Définir une étiquette sur un nœud</li>\n",
    "    <li>Définir plusieurs étiquettes sur un nœud</li>\n",
    "</ul>"
   ]
  },
  {
   "cell_type": "markdown",
   "id": "5e9af4a4",
   "metadata": {},
   "source": [
    "## Définition d'une propriété\n",
    "<p>À l'aide de la clause SET, vous pouvez créer une nouvelle propriété dans un nœud.</p>\n",
    "\n",
    "#### Syntaxe\n",
    "<p>Voici la syntaxe pour définir une propriété.</p>\n",
    "\n",
    "<p>MATCH (node:label{properties . . . . . . . . . . . . . . }) <br>\n",
    "SET node.property = value <br>\n",
    "RETURN node\n",
    "</p>\n",
    "\n",
    "<b>Exemple</b>\n",
    "<p>Avant de continuer avec l'exemple, créez d'abord un nœud nommé 'cours' comme indiqué ci-dessous.</p>\n",
    "\n",
    "<p>CREATE (cours:Cours{name: \"Langage Java\", VH: 50}) </p>\n",
    "\n",
    "Voici un exemple de requête Cypher pour créer une propriété nommée \"Coefficient\" avec la valeur \"3\" .\n",
    "\n",
    "MATCH (cours:Cours{name: \"Langage Java\", VH: 50}) \n",
    "SET cours.coeff = 3\n",
    "RETURN cours"
   ]
  },
  {
   "cell_type": "markdown",
   "id": "22df858c",
   "metadata": {},
   "source": [
    "## Suppression d'une propriété\n",
    "<p>Vous pouvez supprimer une propriété existante en lui passant NULL comme valeur.</p>\n",
    "\n",
    "#### Syntaxe\n",
    "<p>Voici la syntaxe de suppression d'une propriété d'un nœud à l'aide de la clause SET.</p>\n",
    "\n",
    "<p>MATCH (node:label {properties}) <br>\n",
    "SET node.property = NULL <br>\n",
    "RETURN node \n",
    "</p>\n",
    "\n",
    "<b>Exemple</b>\n",
    "<p>Avant de continuer avec l'exemple, créez d'abord un nœud \"cours\" comme indiqué ci-dessous.</p>\n",
    "\n",
    "<p>Create (cours:Cours{name: \"Langage C#\", VH: 50, coeff:4})</p>\n",
    "\n",
    "<p>Voici un exemple de requête Cypher qui supprime la propriété nommée coeff de ce nœud à l'aide de la clause SET, comme indiqué ci-dessous.</p>\n",
    "\n",
    "<p>MATCH (cours:Cours{name: \"Langage C#\", VH: 50, coeff:4}) <br>\n",
    "SET cours.coeff = NULL <br>\n",
    "RETURN cours</p> "
   ]
  },
  {
   "cell_type": "markdown",
   "id": "d5f38caf",
   "metadata": {},
   "source": [
    "## Définition de plusieurs propriétés\n",
    "<p>De la même manière, vous pouvez créer plusieurs propriétés dans un nœud à l'aide de la clause Set. Pour ce faire, vous devez spécifier ces paires clé-valeur avec des virgules.</p>\n",
    "\n",
    "#### Syntaxe\n",
    "<p>Voici la syntaxe pour créer plusieurs propriétés dans un nœud à l'aide de la clause SET.</p>\n",
    "\n",
    "<p>MATCH (node:label {properties}) <br>\n",
    "SET node.property1 = value, node.property2 = value <br>\n",
    "RETURN node </p>\n",
    "\n",
    "<b>Exemple</b>\n",
    "<p>Voici un exemple de requête Cypher qui crée plusieurs propriétés dans un nœud à l'aide de la clause SET dans Neo4j.</p>\n",
    "\n",
    "<p>MATCH (cours:Cours {name: \"Langage Python\"})  <br>\n",
    "SET cours.VH: 40, cours.coeff = 2 <br>\n",
    "RETURN cours</p>"
   ]
  },
  {
   "cell_type": "markdown",
   "id": "deb56ce2",
   "metadata": {},
   "source": [
    "## Définition d'une étiquette sur un nœud\n",
    "<p>Vous pouvez définir une étiquette sur un nœud existant à l'aide de la clause SET.</p>\n",
    "\n",
    "#### Syntaxe\n",
    "<p>Voici la syntaxe pour définir une étiquette sur un nœud existant.</p>\n",
    "\n",
    "<p>MATCH (n {properties . . . . . . . }) <br>\n",
    "SET n :label <br>\n",
    "RETURN n \n",
    "</p>\n",
    "\n",
    "<b>Exemple</b>\n",
    "<p>Avant de continuer avec l'exemple, créez d'abord un nœud \"alami\" comme indiqué ci-dessous.</p>\n",
    "\n",
    "<p>CREATE (alami:Prof {name: \"A. Alami\", recrutement: 1990})</p>\n",
    "\n",
    "<p>Voici un exemple de requête Cypher pour définir une étiquette sur un nœud à l'aide de la clause SET. Cette requête ajoute le label \"Person\" au nœud alami et le renvoie.</p>\n",
    "\n",
    "<p>MATCH (alami:Prof {name: \"A. Alami\", recrutement: 1990}) <br>\n",
    "SET alami: Person <br>\n",
    "RETURN alami </p>\n",
    "\n",
    "On peut écrire la requête ci-dessus sous forme de :\n",
    "\n",
    "<p>MATCH (prof {name: \"A. Alami\", recrutement: 1990}) <br>\n",
    "SET prof: Person <br>\n",
    "RETURN prof </p>"
   ]
  },
  {
   "cell_type": "markdown",
   "id": "64770583",
   "metadata": {},
   "source": [
    "## Définition de plusieurs étiquettes sur un nœud\n",
    "<p>Vous pouvez définir plusieurs étiquettes sur un nœud existant à l'aide de la clause SET. Ici, vous devez spécifier les étiquettes en les séparant par des deux-points \":\".\n",
    "</p>\n",
    "\n",
    "#### Syntaxe\n",
    "<p>Voici la syntaxe pour définir plusieurs étiquettes sur un nœud existant à l'aide de la clause SET.</p>\n",
    "\n",
    "<p>MATCH (n {properties . . . . . . . }) <br>\n",
    "SET n :label1:label2 <br>\n",
    "RETURN n </p>\n",
    "\n",
    "<b>Exemple</b>\n",
    "<p>Avant de continuer avec l'exemple, créez d'abord un nœud nommé \"berrada\" comme indiqué ci-dessous.</p>\n",
    "\n",
    "<p>CREATE (berrada {name: \"Ilham Berrada\"}) </p>\n",
    "\n",
    "<p>Voici un exemple de requête Cypher utilisée pour créer plusieurs étiquettes sur un nœud à l'aide de la clause SET.</p>\n",
    "\n",
    "<p>MATCH (berrada {name: \"Ilham Berrada\"}) <br>\n",
    "SET berrada: Prof:Person <br>\n",
    "RETURN berrada </p>"
   ]
  }
 ],
 "metadata": {
  "kernelspec": {
   "display_name": "Python 3",
   "language": "python",
   "name": "python3"
  },
  "language_info": {
   "codemirror_mode": {
    "name": "ipython",
    "version": 3
   },
   "file_extension": ".py",
   "mimetype": "text/x-python",
   "name": "python",
   "nbconvert_exporter": "python",
   "pygments_lexer": "ipython3",
   "version": "3.8.8"
  }
 },
 "nbformat": 4,
 "nbformat_minor": 5
}
