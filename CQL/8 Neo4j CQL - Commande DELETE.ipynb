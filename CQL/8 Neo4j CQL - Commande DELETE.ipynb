{
 "cells": [
  {
   "cell_type": "markdown",
   "id": "a7f3ebae",
   "metadata": {},
   "source": [
    "# Neo4j CQL - Commande DELETE\n",
    "<img src=\"images/Neo4j.png\" width=\"30%\">"
   ]
  },
  {
   "cell_type": "markdown",
   "id": "34788cb2",
   "metadata": {},
   "source": [
    "<p>Vous pouvez supprimer des nœuds et des relations d'une base de données à l'aide de la clause DELETE.</p>\n",
    "\n",
    "## Suppression de tous les nœuds et relations\n",
    "<p>Voici la requête pour supprimer tous les nœuds et toutes les relations dans la base de données à l'aide de la clause DELETE.</p>\n",
    "\n",
    "<b>Requête</b>\n",
    "<p>MATCH (n) DETACH DELETE n</p>"
   ]
  },
  {
   "cell_type": "markdown",
   "id": "60d02e3e",
   "metadata": {},
   "source": [
    "## Suppression d'un nœud particulier\n",
    "<p>Pour supprimer un nœud particulier, vous devez spécifier les détails du nœud à la place de \"n\" dans la requête ci-dessus.</p>\n",
    "\n",
    "#### Syntaxe\n",
    "<p>Voici la syntaxe pour supprimer un nœud particulier de Neo4j en utilisant la clause DELETE.</p>\n",
    "\n",
    "<p>MATCH (node:label {properties . . . . . . . . . .  }) <br>\n",
    "DETACH DELETE node</p>\n",
    "\n",
    "<b>Exemple</b>\n",
    "\n",
    "<p>Avant de continuer avec l'exemple, créez un nœud \"alami\" dans la base de données Neo4j comme indiqué ci-dessous.</p>\n",
    "\n",
    "<p>CREATE (alami:Prof:Person {name: \"Mourad ALAMI\", recrutement:1990}) </p>\n",
    "\n",
    "<p>Voici un exemple de requête Cypher qui supprime le nœud créé ci-dessus à l'aide de la clause DELETE.</p>\n",
    "\n",
    "<p>MATCH (alami:Prof:Person {name: \"Mourad ALAMI\", recrutement:1990}) <br>\n",
    "DETACH DELETE alami</p>"
   ]
  },
  {
   "cell_type": "code",
   "execution_count": null,
   "id": "217419dc",
   "metadata": {},
   "outputs": [],
   "source": []
  }
 ],
 "metadata": {
  "kernelspec": {
   "display_name": "Python 3",
   "language": "python",
   "name": "python3"
  },
  "language_info": {
   "codemirror_mode": {
    "name": "ipython",
    "version": 3
   },
   "file_extension": ".py",
   "mimetype": "text/x-python",
   "name": "python",
   "nbconvert_exporter": "python",
   "pygments_lexer": "ipython3",
   "version": "3.8.8"
  }
 },
 "nbformat": 4,
 "nbformat_minor": 5
}
