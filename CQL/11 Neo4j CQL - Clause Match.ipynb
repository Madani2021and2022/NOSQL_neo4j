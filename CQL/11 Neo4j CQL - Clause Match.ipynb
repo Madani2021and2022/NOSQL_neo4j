{
 "cells": [
  {
   "cell_type": "markdown",
   "id": "21d57007",
   "metadata": {},
   "source": [
    "# Neo4j CQL - Clause Match\n",
    "<img src=\"images/Neo4j.png\" width=\"30%\">"
   ]
  },
  {
   "cell_type": "markdown",
   "id": "5d63476f",
   "metadata": {},
   "source": [
    "<p>Dans la suite de ces chapitres, on consière la base de données classique d'Oracle. La base est composée de deux tables :</p>\n",
    "<p>dept ( <b><u>deptno</u></b> , dname ,loc)<br>\n",
    "emp(  \n",
    "    <b><u>empno</u></b> ,  \n",
    "  ename ,  \n",
    "  job,  \n",
    "  mgr,  \n",
    "  sal ,  \n",
    "  comm ,  \n",
    "    <b>#deptno</b>   \n",
    ")</p>"
   ]
  },
  {
   "cell_type": "markdown",
   "id": "68597129",
   "metadata": {},
   "source": [
    "<img src=\"images/dept.png\" width=\"30%\">\n",
    "<img src=\"images/emp.png\" width='50%'>"
   ]
  },
  {
   "cell_type": "markdown",
   "id": "c20ed277",
   "metadata": {},
   "source": [
    "<p>La structure du graphe correspondant est :</p>\n",
    "<img src=\"images/match1.png\" width=\"500\">"
   ]
  },
  {
   "cell_type": "markdown",
   "id": "b1748b98",
   "metadata": {},
   "source": [
    "<p>Le graphe est composé de noeuds suivants :</p>\n",
    "<img src=\"images/match2.png\">"
   ]
  },
  {
   "cell_type": "markdown",
   "id": "f56510b5",
   "metadata": {},
   "source": [
    "<p>Dans ce chapitre, nous découvrirons Match Clause et toutes les fonctions pouvant être exécutées à l'aide de cette clause.</p>"
   ]
  },
  {
   "cell_type": "markdown",
   "id": "5f704838",
   "metadata": {},
   "source": [
    "## Obtenir tous les nœuds à l'aide de Match\n",
    "<p>En utilisant la clause MATCH de Neo4j, vous pouvez récupérer tous les nœuds de la base de données Neo4j.</p>"
   ]
  },
  {
   "cell_type": "markdown",
   "id": "2967a6cf",
   "metadata": {},
   "source": [
    "<b>Exemple</b>\n",
    "<p>MATCH(n) return n</p>"
   ]
  },
  {
   "cell_type": "markdown",
   "id": "32c77dfe",
   "metadata": {},
   "source": [
    "## Obtenir tous les nœuds ayant un label spécifique\n",
    "<p>En utilisant la clause match, vous pouvez obtenir tous les nœuds sous une étiquette spécifique.</p>\n",
    "\n",
    "#### Syntaxe\n",
    "<p>Voici la syntaxe pour obtenir tous les nœuds sous une étiquette spécifique.</p>\n",
    "\n",
    "<p>MATCH (nœud : label)<br>\n",
    "RETOUR noeud\n",
    "</p>\n",
    "\n",
    "<b>Exemple</b>\n",
    "<p>Voici un exemple de requête Cypher, qui renvoie tous les nœuds de la base de données sous le lecteur d'étiquettes.</p>\n",
    "\n",
    "<p>MATCH (n:Emp)<br>\n",
    "RETURN n</p>"
   ]
  },
  {
   "cell_type": "markdown",
   "id": "d36514b3",
   "metadata": {},
   "source": [
    "## Match par relation\n",
    "<p>Vous pouvez récupérer des nœuds en fonction de la relation à l'aide de la clause MATCH.</p>\n",
    "\n",
    "#### Syntaxe\n",
    "<p>Voici la syntaxe de récupération des nœuds basée sur la relation à l'aide de la clause MATCH.</p>\n",
    "\n",
    "<p>MATCH (noeud:label)&lt;-[: Relation]-(n)<br>\n",
    "RETURN noeud</p>\n",
    "\n",
    "<b>Exemple</b>\n",
    "\n",
    "<p>Voici un exemple de requête Cypher pour récupérer des nœuds en fonction de la relation à l'aide de la clause MATCH.</p>\n",
    "\n",
    "<p>MATCH (:Dept {name : \"Sales\"})&lt;-[:Works_for]-(n)<br>\n",
    "RETURN n.name</p>"
   ]
  },
  {
   "cell_type": "markdown",
   "id": "7222810b",
   "metadata": {},
   "source": [
    "## Supprimer tous les nœuds\n",
    "<p>Vous pouvez supprimer tous les nœuds à l'aide de la clause MATCH.</p>\n",
    "\n",
    "#### Requête\n",
    "<p>Voici la requête pour supprimer tous les nœuds dans Neo4j.</p>\n",
    "\n",
    "<p>MATCH (n) detach delete n</p>"
   ]
  }
 ],
 "metadata": {
  "kernelspec": {
   "display_name": "Python 3",
   "language": "python",
   "name": "python3"
  },
  "language_info": {
   "codemirror_mode": {
    "name": "ipython",
    "version": 3
   },
   "file_extension": ".py",
   "mimetype": "text/x-python",
   "name": "python",
   "nbconvert_exporter": "python",
   "pygments_lexer": "ipython3",
   "version": "3.8.8"
  }
 },
 "nbformat": 4,
 "nbformat_minor": 5
}
