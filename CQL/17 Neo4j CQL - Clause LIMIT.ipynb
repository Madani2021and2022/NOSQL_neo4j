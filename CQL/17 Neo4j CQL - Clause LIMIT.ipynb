{
 "cells": [
  {
   "cell_type": "markdown",
   "id": "f7cc162e",
   "metadata": {},
   "source": [
    "# Neo4j CQL - Clause LIMIT\n",
    "<img src=\"images/Neo4j.png\" width=\"30%\">"
   ]
  },
  {
   "cell_type": "markdown",
   "id": "858d08ac",
   "metadata": {},
   "source": [
    "<p>La clause limit est utilisée pour limiter le nombre de lignes dans la sortie.</p>\n",
    "\n",
    "#### Syntaxe\n",
    "<p>Voici la syntaxe de la clause LIMIT.</p>\n",
    "\n",
    "<p>MATCH (n) <br>\n",
    "RETURN n <br>\n",
    "ORDER BY n.name <br>\n",
    "LIMIT 3 </p>\n",
    "\n",
    "<b>Exemple</b>\n",
    "<p>Ici, on veut afficher les trois employés qui ont les salaires les plus élevés</p>\n",
    "\n",
    "<p>MATCH (emp:Emp)  <br>\n",
    "RETURN emp.ename, emp.job <br>\n",
    "ORDER BY emp.sal DESC <br>\n",
    "LIMIT 3 </p>"
   ]
  },
  {
   "cell_type": "markdown",
   "id": "dab92924",
   "metadata": {},
   "source": [
    "## Limiter avec expression\n",
    "<p>Vous pouvez également utiliser la clause LIMIT avec expression.</p>\n",
    "\n",
    "<b>Exemple</b>\n",
    "<p>Voici un exemple de requête Cypher qui limite les enregistrements à l'aide d'une expression.</p>\n",
    "\n",
    "<p>MATCH (emp:Emp)  <br>\n",
    "RETURN emp.ename, emp.job <br>\n",
    "ORDER BY emp.sal DESC <br>\n",
    "LIMIT toInteger(3 * rand())+ 1  </p>\n",
    " "
   ]
  }
 ],
 "metadata": {
  "kernelspec": {
   "display_name": "Python 3",
   "language": "python",
   "name": "python3"
  },
  "language_info": {
   "codemirror_mode": {
    "name": "ipython",
    "version": 3
   },
   "file_extension": ".py",
   "mimetype": "text/x-python",
   "name": "python",
   "nbconvert_exporter": "python",
   "pygments_lexer": "ipython3",
   "version": "3.8.8"
  }
 },
 "nbformat": 4,
 "nbformat_minor": 5
}
