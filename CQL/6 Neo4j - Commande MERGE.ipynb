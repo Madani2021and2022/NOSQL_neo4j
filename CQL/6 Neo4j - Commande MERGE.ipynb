{
 "cells": [
  {
   "cell_type": "markdown",
   "id": "0c872d66",
   "metadata": {},
   "source": [
    "# Neo4j - Commande MERGE\n",
    "<img src=\"images/Neo4j.png\" width=\"30%\">"
   ]
  },
  {
   "cell_type": "markdown",
   "id": "d5c39001",
   "metadata": {},
   "source": [
    "<p>La commande MERGE est une combinaison de la commande CREATE et de la commande MATCH.</p>\n",
    "\n",
    "<p>La commande Neo4j CQL MERGE recherche un motif donné dans le graphe. S'il existe, il renvoie les résultats.</p>\n",
    "\n",
    "<p>S'il n'existe PAS dans le graphe, il crée un nouveau nœud/relation et renvoie les résultats.</p>\n",
    "\n",
    "<p>Dans ce chapitre, vous allez apprendre à :</p>\n",
    "<ul>\n",
    "    <li>MERGE un nœud avec une étiquette</li>\n",
    "    <li>MERGE un nœud avec des propriétés</li>\n",
    "    <li>OnCreate et OnMatch</li>\n",
    "    <li>MERGE une relation</li>\n",
    "</ul>"
   ]
  },
  {
   "cell_type": "markdown",
   "id": "3d1f611b",
   "metadata": {},
   "source": [
    "#### Syntaxe\n",
    "<p>Voici la syntaxe de la commande MERGE.</p>\n",
    "\n",
    "<p>MERGE (node: label {properties . . . . . . . }) </p>\n",
    "\n",
    "<p>Avant de passer aux exemples de cette section, créez deux nœuds dans la base de données avec les étiquettes madani et ville. Créez une relation de type «habite» de madani à ville, comme indiqué ci-dessous.</p>\n",
    "<p>\n",
    "CREATE (madani:Prof{name: \"Abdellah MADANI\", recrutement: 1994}) <br>\n",
    "CREATE (ville:Ville {name: \"El Jadida\"}) <br>\n",
    "CREATE (madani)-[r:habite]->(ville)<br>\n",
    "</p>"
   ]
  },
  {
   "cell_type": "markdown",
   "id": "dd97f78d",
   "metadata": {},
   "source": [
    "## MERGE un nœud avec une étiquette\n",
    "<p>Vous pouvez MERGE un nœud dans la base de données en fonction de l'étiquette à l'aide de la clause MERGE. Si vous essayez de MERGE un nœud basé sur l'étiquette, alors Neo4j vérifie s'il existe un nœud avec l'étiquette donnée. Sinon, le nœud actuel sera créé.</p>\n",
    "\n",
    "#### Syntaxe\n",
    "<p>Voici la syntaxe pour MERGE un nœud en fonction d'une étiquette.</p>\n",
    "\n",
    "<p>MERGE (node:label) RETURN node </p>\n",
    "\n",
    "<b>Exemple 1</b>\n",
    "\n",
    "<p>Voici un exemple de requête Cypher qui MERGE un nœud dans Neo4j (basé sur l'étiquette). Lorsque vous exécutez cette requête, Neo4j vérifie s'il existe un nœud avec l'étiquette 'Prof' . Sinon, il crée un nœud nommé \"prof\" et le renvoie.</p>\n",
    "\n",
    "<p>S'il existe un nœud avec l'étiquette donnée, Neo4j les renvoie tous.</p>\n",
    "\n",
    "MERGE (prof:Prof) RETURN prof\n",
    "\n",
    "<b>Exemple 2</b>\n",
    "<p>Maintenant, essayez de MERGE un nœud nommé \"prof\" avec une étiquette nommée \"Prof\". Puisqu'il n'y a pas de nœuds avec cette étiquette, Neo4j crée un nœud avec le nom donné et le renvoie.</p>\n",
    "<p>\n",
    "MERGE (prof:Prof{name: \"A. Alami\"}) <br>\n",
    "RETURN prof, labels(prof)</p>"
   ]
  },
  {
   "cell_type": "markdown",
   "id": "d7321c5b",
   "metadata": {},
   "source": [
    "## MERGE un nœud avec des propriétés\n",
    "<p>Vous pouvez également MERGE un nœud avec un ensemble de propriétés. Si vous le faites, Neo4j recherche une correspondance égale pour le nœud spécifié, y compris les propriétés. S'il n'en trouve pas, il en crée un.</p>\n",
    "\n",
    "#### Syntaxe\n",
    "<p>Voici la syntaxe pour MERGE un nœud à l'aide de propriétés.</p>\n",
    "\n",
    "<p>MERGE (node:label {key1:value, key2:value, key3:value . . . . . . . . }) </p>\n",
    "\n",
    "<b>Exemple</b>\n",
    "<p>Voici un exemple de requête Cypher pour MERGE un nœud à l'aide de propriétés. Cette requête tente de MERGE le nœud nommé \"prof\" en utilisant les propriétés et l'étiquette. Puisqu'il n'y a pas de nœud de ce type avec l'étiquette et les propriétés exactes, Neo4j en crée un.</p>\n",
    "\n",
    "<p>MERGE (prof:Prof {name: \"Abdellah MADANI\", recrutement:1994}) <br>\n",
    "RETURN prof </p>"
   ]
  },
  {
   "cell_type": "markdown",
   "id": "484ac003",
   "metadata": {},
   "source": [
    "## OnCreate et OnMatch\n",
    "<p>Chaque fois que nous exécutons une requête de MERGE, un nœud est soit mis en correspondance, soit créé. En utilisant lors de la création et lors de la correspondance, vous pouvez définir des propriétés pour indiquer si le nœud est créé ou mis en correspondance.</p>\n",
    "\n",
    "#### Syntaxe\n",
    "<p>Voici la syntaxe des clauses OnCreate et OnMatch.</p>\n",
    "\n",
    "<p>MERGE (node:label {properties . . . . . . . . . . .}) <br>\n",
    "ON CREATE SET property.isCreated =\"true\" <br>\n",
    "ON MATCH SET property.isFound =\"true\"\n",
    "</p>\n",
    "\n",
    "<b>Exemple</b>\n",
    "<p>Voici un exemple de requête Cypher qui illustre l'utilisation des clauses OnCreate et OnMatch dans Neo4j. Si le nœud spécifié existe déjà dans la base de données, le nœud sera mis en correspondance et la propriété avec la paire clé-valeur isFound = \"true\" sera créée dans le nœud.</p>\n",
    "\n",
    "<p>Si le nœud spécifié n'existe pas dans la base de données, alors le nœud sera créé contenant une propriété avec une paire clé-valeur isCreated =\"true\".</p>\n",
    "\n",
    "<p>MERGE (prof:Prof {name: \"A. Alami\", recrutement: 1990}) <br>\n",
    "ON CREATE SET prof.isCreated = \"true\" <br>\n",
    "ON MATCH SET prof.isFound = \"true\" <br<\n",
    "RETURN prof</p>"
   ]
  },
  {
   "cell_type": "markdown",
   "id": "4719deae",
   "metadata": {},
   "source": [
    "## MERGE une relation\n",
    "<p>Tout comme les nœuds, vous pouvez également MERGE les relations à l'aide de la clause MERGE.</p>\n",
    "\n",
    "<b>Exemple</b>\n",
    "<p>Voici un exemple de requête Cypher qui MERGE une relation à l'aide de la clause MATCH dans Neo4j. Cette requête tente de MERGE une relation nommée <b>enseigne</b> entre deux nœuds \"Prof\" et \"Cours\".</p>\n",
    "\n",
    "<p>Puisqu'une telle relation n'existe pas, Neo4j en crée une.</p>\n",
    "\n",
    "<p>\n",
    "MATCH (a:Prof), (b:Cours) <br>\n",
    "   WHERE a.name = \"Abdellah MADANI\" AND b.name = \"Machine Learning\" <br>\n",
    "   MERGE (a)-[r:enseigne]->(b) <br>\n",
    "RETURN a, b \n",
    "    </p>"
   ]
  }
 ],
 "metadata": {
  "kernelspec": {
   "display_name": "Python 3",
   "language": "python",
   "name": "python3"
  },
  "language_info": {
   "codemirror_mode": {
    "name": "ipython",
    "version": 3
   },
   "file_extension": ".py",
   "mimetype": "text/x-python",
   "name": "python",
   "nbconvert_exporter": "python",
   "pygments_lexer": "ipython3",
   "version": "3.8.8"
  }
 },
 "nbformat": 4,
 "nbformat_minor": 5
}
