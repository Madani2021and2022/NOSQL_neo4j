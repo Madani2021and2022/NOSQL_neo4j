{
 "cells": [
  {
   "cell_type": "markdown",
   "id": "0ae13cbb",
   "metadata": {},
   "source": [
    "# Neo4j CQL - Fonction Count\n",
    "<img src=\"images/Neo4j.png\" width=\"30%\">"
   ]
  },
  {
   "cell_type": "markdown",
   "id": "77a7f2de",
   "metadata": {},
   "source": [
    "Reprenons l'exemple des employés et des départements."
   ]
  },
  {
   "cell_type": "markdown",
   "id": "d145c84d",
   "metadata": {},
   "source": [
    "## Compter\n",
    "<p>La fonction count() permet de compter le nombre de lignes.</p>\n",
    "\n",
    "\n",
    "<b>Exemples</b>\n",
    "<p>Voici quelques exemples de requête Cypher qui illustre l'utilisation de la fonction count().</p>\n",
    "<i>Le nombre d'employés ayant comme nom 'Jones'</i>\n",
    "<p>Match(:Emp{ename: \"Jones\") <br>\n",
    "RETURN count(*)</p>\n",
    "\n",
    "<i>Le nombre de noeuds ayant comme noeud de départ 'Jones'</i> \n",
    "<p>Match(n{ename: \"Jones\"})-->(x) <br> \n",
    "RETURN n, count(*)</p>\n",
    "\n",
    "<i>Le nombre de noeuds ayant une relation avec 'Jones'</i>\n",
    "<p>Match(n{ename: \"Jones\"})--(x) <br> \n",
    "RETURN n, count(*) </p>"
   ]
  },
  {
   "cell_type": "markdown",
   "id": "4a72edea",
   "metadata": {},
   "source": [
    "## Nombre de groupes\n",
    "<p>La clause COUNT est également utilisée pour compter les groupes de types de relations.</p>\n",
    "\n",
    "<b>Exemple</b>\n",
    "<p>Voici un exemple de requête Cypher qui compte et renvoie le nombre de nœuds participant à chaque relation.</p>\n",
    "\n",
    "<p>Match(:Emp{ename: \"Jones\"})-[r]-(x)  <br>\n",
    "RETURN type (r), count(*) </p>\n"
   ]
  }
 ],
 "metadata": {
  "kernelspec": {
   "display_name": "Python 3",
   "language": "python",
   "name": "python3"
  },
  "language_info": {
   "codemirror_mode": {
    "name": "ipython",
    "version": 3
   },
   "file_extension": ".py",
   "mimetype": "text/x-python",
   "name": "python",
   "nbconvert_exporter": "python",
   "pygments_lexer": "ipython3",
   "version": "3.8.8"
  }
 },
 "nbformat": 4,
 "nbformat_minor": 5
}
