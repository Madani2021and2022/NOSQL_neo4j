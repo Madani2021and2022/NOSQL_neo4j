{
 "cells": [
  {
   "cell_type": "markdown",
   "id": "3be4bc94",
   "metadata": {},
   "source": [
    "# Neo4j CQL - Clause WHERE\n",
    "<img src=\"images/Neo4j.png\" width=\"30%\">"
   ]
  },
  {
   "cell_type": "markdown",
   "id": "aee1e11c",
   "metadata": {},
   "source": [
    "<p>Comme SQL, Neo4j CQL a fourni la clause WHERE dans la commande CQL MATCH pour filtrer les résultats d'une requête MATCH.</p>\n",
    "\n",
    "#### Syntaxe\n",
    "<p>Voici la syntaxe de la clause WHERE.</p>\n",
    "\n",
    "<p>MATCH (label)  <br>\n",
    "WHERE label.country = \"property\" <br>\n",
    "RETURN label </p>\n",
    "\n",
    "<b>Exemple</b>\n",
    "<p>\n",
    "Voici un exemple de requête Cypher qui renvoie tous les employés (nœuds) ayant comme fonction Salesman en utilisant la clause WHERE.</p>\n",
    "\n",
    "<p>MATCH (emp:Emp)  <br>\n",
    "WHERE emp.job = \"Salesman\" <br>\n",
    "RETURN emp </p>\n",
    "\n",
    "<p>On peut aussi utiliser :</p>\n",
    "<p>MATCH (Emp)  <br>\n",
    "where Emp.job='Salesman'<br>\n",
    "RETURN Emp </p>"
   ]
  },
  {
   "cell_type": "markdown",
   "id": "aaac14ec",
   "metadata": {},
   "source": [
    "## Clause WHERE avec conditions multiples\n",
    "<p>Vous pouvez également utiliser la clause WHERE pour vérifier plusieurs conditions.</p>\n",
    "\n",
    "#### Syntaxe\n",
    "<p>Voici la syntaxe pour utiliser la clause WHERE dans Neo4j avec plusieurs conditions.</p>\n",
    "\n",
    "<p>MATCH (emp:Employee)  <br>\n",
    "WHERE emp.name = 'Abc' AND emp.name = 'Xyz' <br>\n",
    "RETURN emp </p>\n",
    "\n",
    "<b>Exemple</b>\n",
    "<p>Voici un exemple de requête Cypher qui filtre les nœuds de la base de données Neo4j en utilisant deux conditions.</p>\n",
    "\n",
    "<p>MATCH(e:Emp)<br>\n",
    "WHERE  e.empno>7566 AND e.job='Salesman'<br>\n",
    "RETURN count(e)</p>"
   ]
  },
  {
   "cell_type": "markdown",
   "id": "0604191d",
   "metadata": {},
   "source": [
    "## Utilisation de la relation avec la clause Where\n",
    "<p>Vous pouvez également utiliser la clause Where pour filtrer les nœuds à l'aide des relations.</p>"
   ]
  },
  {
   "cell_type": "markdown",
   "id": "8dd9822b",
   "metadata": {},
   "source": [
    "<p>Voici un exemple de requête Cypher pour récupérer les employés qui travaillent au département Research en utilisant la clause WHERE comme indiqué ci-dessous.</p>\n",
    "\n",
    "<p>MATCH (n) <br>\n",
    "WHERE (n)-[: Works_for]->(:Dept {dname: \"Research\"}) <br>\n",
    "RETURN n</p>"
   ]
  }
 ],
 "metadata": {
  "kernelspec": {
   "display_name": "Python 3",
   "language": "python",
   "name": "python3"
  },
  "language_info": {
   "codemirror_mode": {
    "name": "ipython",
    "version": 3
   },
   "file_extension": ".py",
   "mimetype": "text/x-python",
   "name": "python",
   "nbconvert_exporter": "python",
   "pygments_lexer": "ipython3",
   "version": "3.8.8"
  }
 },
 "nbformat": 4,
 "nbformat_minor": 5
}
